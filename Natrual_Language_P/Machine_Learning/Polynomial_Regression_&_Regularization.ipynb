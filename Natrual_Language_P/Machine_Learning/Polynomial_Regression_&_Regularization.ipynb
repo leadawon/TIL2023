{
 "cells": [
  {
   "cell_type": "code",
   "execution_count": 1,
   "metadata": {},
   "outputs": [],
   "source": [
    "from matplotlib import pyplot\n",
    "from autograd import grad\n",
    "from autograd import numpy"
   ]
  },
  {
   "cell_type": "code",
   "execution_count": 2,
   "metadata": {},
   "outputs": [
    {
     "data": {
      "text/plain": [
       "<matplotlib.collections.PathCollection at 0x206b1712148>"
      ]
     },
     "execution_count": 2,
     "metadata": {},
     "output_type": "execute_result"
    },
    {
     "data": {
      "image/png": "[encoded data removed]",
      "text/plain": [
       "<Figure size 432x288 with 1 Axes>"
      ]
     },
     "metadata": {
      "needs_background": "light"
     },
     "output_type": "display_data"
    }
   ],
   "source": [
    "numpy.random.seed(0)\n",
    "x = numpy.linspace(-3,3,20)\n",
    "y = x**4 + x**3 - 4*x**2 + 8*numpy.random.normal(size=len(x))\n",
    "pyplot.scatter(x,y)"
   ]
  },
  {
   "cell_type": "code",
   "execution_count": 3,
   "metadata": {},
   "outputs": [
    {
     "name": "stdout",
     "output_type": "stream",
     "text": [
      "(20, 4)\n"
     ]
    }
   ],
   "source": [
    "degree = 3\n",
    "\n",
    "def polynomial_features(x, degree):\n",
    "    \"\"\" Generate polynomial features for x.\"\"\"\n",
    "\n",
    "    X = numpy.empty((len(x),degree+1))\n",
    "    for i in range(degree+1):\n",
    "        X[:,i] = x**i\n",
    "    return X\n",
    "\n",
    "X = polynomial_features(x,degree)\n",
    "print(X.shape)"
   ]
  },
  {
   "cell_type": "code",
   "execution_count": 4,
   "metadata": {},
   "outputs": [],
   "source": [
    "from sklearn.preprocessing import MinMaxScaler\n",
    "min_max_scaler = MinMaxScaler()\n",
    "X_scaled = min_max_scaler.fit_transform(X)\n",
    "X_scaled[:,0] = 1"
   ]
  },
  {
   "cell_type": "code",
   "execution_count": 5,
   "metadata": {},
   "outputs": [],
   "source": [
    "def linear_regression(params, X):\n",
    "    '''\n",
    "    The linear regression medel in matrix form.\n",
    "    Arguments:\n",
    "        params : 1D array of weights for the linear model\n",
    "        X      : 2D array of input values\n",
    "    Returns:\n",
    "        1D array of predicted values\n",
    "    '''\n",
    "    return numpy.dot(X, params)\n",
    "\n",
    "def mse_loss(params,model,X,y):\n",
    "    '''\n",
    "    The mean squared error loss function.\n",
    "    Arguments:\n",
    "        params: 1D array of weights for the linear model\n",
    "        model : function for the linear regression model\n",
    "        X     : 2D array of input values\n",
    "        y     : 1D array of predicted values\n",
    "    Returns:\n",
    "        float, mean squared error\n",
    "    '''\n",
    "    \n",
    "    y_pred = model(params,X)\n",
    "    # print(\"***********************\")\n",
    "    # print(numpy.mean(numpy.sum((y-y_pred)**2)))\n",
    "    # print(\"--------\")\n",
    "    # print(numpy.sum((y-y_pred)**2))\n",
    "    # print(\"***********************\")\n",
    "    \n",
    "    return numpy.mean(numpy.sum((y-y_pred)**2))\n",
    "\n",
    "gradient = grad(mse_loss)"
   ]
  },
  {
   "cell_type": "code",
   "execution_count": 6,
   "metadata": {},
   "outputs": [
    {
     "name": "stdout",
     "output_type": "stream",
     "text": [
      "iteration 0, loss=5434.767518111348,mae=11.05718775676392\n",
      "iteration 100, loss=1300.4768479787672,mae=6.885099348931476\n",
      "iteration 200, loss=1281.308959359777,mae=6.8639053389713665\n",
      "iteration 300, loss=1272.9896965024661,mae=6.807943451695349\n",
      "iteration 400, loss=1267.4477500708404,mae=6.760476747247461\n",
      "iteration 500, loss=1263.7497451381248,mae=6.721622404779564\n",
      "iteration 600, loss=1261.282144135704,mae=6.689879731162117\n",
      "iteration 700, loss=1259.6355657998567,mae=6.663949878547802\n",
      "iteration 800, loss=1258.5368386500606,mae=6.642768513961068\n",
      "iteration 900, loss=1257.8036810933152,mae=6.625466061127554\n",
      "iteration 1000, loss=1257.314460450035,mae=6.611332180986304\n",
      "iteration 1100, loss=1256.9880137870919,mae=6.5997866175015245\n",
      "iteration 1200, loss=1256.7701827834117,mae=6.5903553760560865\n",
      "iteration 1300, loss=1256.6248287285202,mae=6.582651263968432\n",
      "iteration 1400, loss=1256.5278370197357,mae=6.576357994582585\n",
      "iteration 1500, loss=1256.4631164890282,mae=6.571217202352118\n",
      "iteration 1600, loss=1256.4199298378444,mae=6.567017835832665\n",
      "iteration 1700, loss=1256.391112292313,mae=6.563587493120082\n",
      "iteration 1800, loss=1256.3718829492707,mae=6.5607853440170505\n",
      "iteration 1900, loss=1256.3590516124232,mae=6.558496348352909\n",
      "iteration 2000, loss=1256.3504895307688,mae=6.5566265330940485\n",
      "iteration 2100, loss=1256.3447762334608,mae=6.555099134350118\n",
      "iteration 2200, loss=1256.3409638701312,mae=6.553851445888969\n",
      "iteration 2300, loss=1256.338419960131,mae=6.552832244778408\n",
      "iteration 2400, loss=1256.336722462403,mae=6.551999688466384\n",
      "iteration 2500, loss=1256.3355897578117,mae=6.551319596965787\n",
      "iteration 2600, loss=1256.334833927822,mae=6.550764049620217\n",
      "iteration 2700, loss=1256.33432957834,mae=6.550310238841959\n",
      "iteration 2800, loss=1256.333993036521,mae=6.549939533763262\n",
      "iteration 2900, loss=1256.3337684692315,mae=6.549636715359735\n"
     ]
    }
   ],
   "source": [
    "max_iter = 3000\n",
    "alpha = 0.01\n",
    "params = numpy.zeros(X_scaled.shape[1])\n",
    "descent = numpy.ones(X_scaled.shape[1])\n",
    "i = 0\n",
    "\n",
    "from sklearn.metrics import mean_absolute_error\n",
    "\n",
    "while numpy.linalg.norm(descent) > 0.01 and i < max_iter:\n",
    "    descent = gradient(params,linear_regression,X_scaled,y)\n",
    "    params = params - descent * alpha\n",
    "    loss = mse_loss(params,linear_regression,X_scaled,y)\n",
    "    mae = mean_absolute_error(y,X_scaled@params)\n",
    "    if i%100 == 0:\n",
    "        print(\"iteration {}, loss={},mae={}\".format(i,loss,mae))\n",
    "    i += 1"
   ]
  },
  {
   "cell_type": "code",
   "execution_count": 7,
   "metadata": {},
   "outputs": [
    {
     "data": {
      "text/plain": [
       "array([-22.51572398,   6.75930601,  41.30788709,  30.0105898 ])"
      ]
     },
     "execution_count": 7,
     "metadata": {},
     "output_type": "execute_result"
    }
   ],
   "source": [
    "params"
   ]
  },
  {
   "cell_type": "code",
   "execution_count": 8,
   "metadata": {},
   "outputs": [
    {
     "data": {
      "image/png": "[encoded data removed]",
      "text/plain": [
       "<Figure size 432x288 with 1 Axes>"
      ]
     },
     "metadata": {
      "needs_background": "light"
     },
     "output_type": "display_data"
    }
   ],
   "source": [
    "xgrid = numpy.linspace(x.min(),x.max(),30)\n",
    "Xgrid_poly_feat = polynomial_features(xgrid,degree)\n",
    "Xgrid_scaled = min_max_scaler.transform(Xgrid_poly_feat)\n",
    "Xgrid_scaled[:,0] = 1\n",
    "pyplot.scatter(x,y,c=\"r\",label=\"true\")\n",
    "pyplot.plot(xgrid,Xgrid_scaled@params,label=\"predicted\")\n",
    "pyplot.legend();"
   ]
  },
  {
   "cell_type": "code",
   "execution_count": 9,
   "metadata": {},
   "outputs": [
    {
     "data": {
      "text/plain": [
       "('plot_helpers.py', <http.client.HTTPMessage at 0x206c4e08ec8>)"
      ]
     },
     "execution_count": 9,
     "metadata": {},
     "output_type": "execute_result"
    }
   ],
   "source": [
    "from urllib.request import urlretrieve\n",
    "URL = 'https://raw.githubusercontent.com/engineersCode/EngComp6_deeplearning/master/scripts/plot_helpers.py'\n",
    "urlretrieve(URL,\"plot_helpers.py\")"
   ]
  },
  {
   "cell_type": "code",
   "execution_count": 10,
   "metadata": {},
   "outputs": [
    {
     "data": {
      "application/vnd.jupyter.widget-view+json": {
       "model_id": "2d984664c3a34af995eff02840e94606",
       "version_major": 2,
       "version_minor": 0
      },
      "text/plain": [
       "interactive(children=(IntSlider(value=8, description='degree', max=15, min=1), Output()), _dom_classes=('widge…"
      ]
     },
     "metadata": {},
     "output_type": "display_data"
    }
   ],
   "source": [
    "from plot_helpers import interact_polyreg\n",
    "\n",
    "max_degree = 15\n",
    "interact_polyreg(max_degree,x,y)"
   ]
  },
  {
   "cell_type": "code",
   "execution_count": 11,
   "metadata": {},
   "outputs": [],
   "source": [
    "def regularized_loss(params,model,X,y,_lambda=1.0):\n",
    "    '''\n",
    "    The mean squared error loss function with an L2 penalty\n",
    "    Arguments:\n",
    "        params: 1D array of weights for the linear model\n",
    "        model : function for the linear regression model\n",
    "        X     : 2D array of input values\n",
    "        y     : 1D array of predicted values\n",
    "        _lambda : regularization parameter, default 1.0\n",
    "    Returns:\n",
    "        float, regularized mean squared error\n",
    "    '''\n",
    "\n",
    "    y_pred = model(params,X)\n",
    "    return numpy.mean(numpy.sum((y-y_pred)**2)) + _lambda * numpy.sum(params[1:]**2)\n",
    "\n",
    "gradient = grad(regularized_loss)"
   ]
  },
  {
   "cell_type": "code",
   "execution_count": 12,
   "metadata": {},
   "outputs": [],
   "source": [
    "no_regularization_params = params.copy()"
   ]
  },
  {
   "cell_type": "code",
   "execution_count": 13,
   "metadata": {},
   "outputs": [
    {
     "name": "stdout",
     "output_type": "stream",
     "text": [
      "iteration 0, loss = 5434.767518111348, mae = 11.05718775676392\n",
      "iteration 100, loss = 1785.9852202374184, mae = 6.983886996350374\n",
      "iteration 200, loss = 1764.2597057711018, mae = 6.966518785947395\n",
      "iteration 300, loss = 1763.5702631188328, mae = 6.965728405272657\n"
     ]
    }
   ],
   "source": [
    "max_iter = 3000\n",
    "alpha = 0.01\n",
    "params = numpy.zeros(X_scaled.shape[1])\n",
    "descent = numpy.ones(X_scaled.shape[1])\n",
    "i = 0\n",
    "\n",
    "from sklearn.metrics import mean_absolute_error\n",
    "\n",
    "while numpy.linalg.norm(descent) > 0.01 and i < max_iter:\n",
    "    descent = gradient(params, linear_regression,X_scaled,y)\n",
    "    params = params - descent * alpha\n",
    "    loss = mse_loss(params,linear_regression,X_scaled,y)\n",
    "    mae = mean_absolute_error(y,X_scaled@params)\n",
    "    if i%100 == 0:\n",
    "        print(\"iteration {}, loss = {}, mae = {}\".format(i, loss, mae))\n",
    "    i += 1"
   ]
  },
  {
   "cell_type": "code",
   "execution_count": 14,
   "metadata": {},
   "outputs": [
    {
     "name": "stdout",
     "output_type": "stream",
     "text": [
      "weights without regularization\n",
      "[-22.51572398   6.75930601  41.30788709  30.0105898 ]\n",
      "weights with regularization\n",
      "[-11.13750882  12.48522096  28.26626633  11.09211867]\n"
     ]
    },
    {
     "data": {
      "image/png": "[encoded data removed]",
      "text/plain": [
       "<Figure size 432x288 with 1 Axes>"
      ]
     },
     "metadata": {
      "needs_background": "light"
     },
     "output_type": "display_data"
    }
   ],
   "source": [
    "print(\"weights without regularization\")\n",
    "print(no_regularization_params)\n",
    "print(\"weights with regularization\")\n",
    "print(params)\n",
    "\n",
    "pyplot.scatter(x,y,c=\"r\",label=\"true\")\n",
    "pyplot.plot(xgrid,Xgrid_scaled@no_regularization_params,label=\"w/o regularization\")\n",
    "pyplot.plot(xgrid, Xgrid_scaled@params, label=\"with regularization\")\n",
    "pyplot.legend();"
   ]
  },
  {
   "cell_type": "code",
   "execution_count": 15,
   "metadata": {},
   "outputs": [
    {
     "data": {
      "application/vnd.jupyter.widget-view+json": {
       "model_id": "d524ac3894cf4c24af684739da3c56ea",
       "version_major": 2,
       "version_minor": 0
      },
      "text/plain": [
       "interactive(children=(IntSlider(value=8, description='degree', max=15, min=1), Output()), _dom_classes=('widge…"
      ]
     },
     "metadata": {},
     "output_type": "display_data"
    }
   ],
   "source": [
    "interact_polyreg(max_degree,x,y,regularized=True)"
   ]
  }
 ],
 "metadata": {
  "kernelspec": {
   "display_name": "Python 3.7.5 64-bit",
   "language": "python",
   "name": "python3"
  },
  "language_info": {
   "codemirror_mode": {
    "name": "ipython",
    "version": 3
   },
   "file_extension": ".py",
   "mimetype": "text/x-python",
   "name": "python",
   "nbconvert_exporter": "python",
   "pygments_lexer": "ipython3",
   "version": "3.7.5"
  },
  "orig_nbformat": 4,
  "vscode": {
   "interpreter": {
    "hash": "5109d816b82be14675a6b11f8e0f0d2e80f029176ed3710d54e125caa8520dfd"
   }
  }
 },
 "nbformat": 4,
 "nbformat_minor": 2
}
