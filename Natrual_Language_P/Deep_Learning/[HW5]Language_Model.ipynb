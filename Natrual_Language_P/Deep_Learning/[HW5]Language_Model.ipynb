{
  "nbformat": 4,
  "nbformat_minor": 0,
  "metadata": {
    "colab": {
      "provenance": [],
      "machine_shape": "hm"
    },
    "kernelspec": {
      "name": "python3",
      "display_name": "Python 3"
    },
    "language_info": {
      "name": "python"
    },
    "accelerator": "GPU",
    "gpuClass": "premium"
  },
  "cells": [
    {
      "cell_type": "markdown",
      "metadata": {
        "id": "jR26RFkwXtvi"
      },
      "source": [
        "# **[HW5] Language Model**\n",
        "1. DataLoader\n",
        "2. Model\n",
        "3. Trainer\n",
        "4. Generation\n",
        "\n",
        "이번 실습에서는 RNN기반의 Language Model를 구현해서 텍스트를 직접 생성해보는 실습을 진행해보겠습니다.\n",
        "\n",
        "- dataset: WikiText2 (https://github.com/pytorch/examples/tree/master/word_language_model/data/wikitext-2)\n",
        "- model: LSTM\n"
      ]
    },
    {
      "cell_type": "markdown",
      "metadata": {
        "id": "crVJ36mMlaXP"
      },
      "source": [
        "\n",
        "\n",
        "## Import packages"
      ]
    },
    {
      "cell_type": "markdown",
      "metadata": {
        "id": "zpvlE_XOWS33"
      },
      "source": [
        "런타임의 유형을 변경해줍니다.\n",
        "\n",
        "상단 메뉴에서 [런타임]->[런타임유형변경]->[하드웨어가속기]->[GPU]\n",
        "\n",
        "변경 이후 아래의 cell을 실행 시켰을 때, torch.cuda.is_avialable()이 True가 나와야 합니다.\n",
        "\n"
      ]
    },
    {
      "cell_type": "code",
      "metadata": {
        "id": "cqVdEuPQzMAH",
        "colab": {
          "base_uri": "https://localhost:8080/"
        },
        "outputId": "82139366-09dd-4258-8486-853df1b31e3e"
      },
      "source": [
        "import torch\n",
        "import torch.nn as nn\n",
        "import torch.nn.functional as F\n",
        "import torchvision\n",
        "import torch.optim as optim\n",
        "print(torch.__version__)\n",
        "print(torch.cuda.is_available())"
      ],
      "execution_count": 30,
      "outputs": [
        {
          "output_type": "stream",
          "name": "stdout",
          "text": [
            "1.12.1+cu113\n",
            "True\n"
          ]
        }
      ]
    },
    {
      "cell_type": "code",
      "metadata": {
        "id": "2o3-HPdHLZma"
      },
      "source": [
        "import matplotlib.pyplot as plt\n",
        "import numpy as np\n",
        "import scipy as sp\n",
        "import tqdm\n",
        "import os\n",
        "import random\n",
        "import time\n",
        "import datetime\n",
        "\n",
        "# for reproducibility\n",
        "random.seed(1234)\n",
        "np.random.seed(1234)\n",
        "torch.backends.cudnn.deterministic = True\n",
        "torch.backends.cudnn.benchmark = False"
      ],
      "execution_count": 31,
      "outputs": []
    },
    {
      "cell_type": "markdown",
      "metadata": {
        "id": "T1GnKJCB4T_Q"
      },
      "source": [
        "# 1. DataLoader\n",
        "\n",
        "이전의 실습들에서 사용한것과 마찬가지로, PyTorch style의 dataloader를 먼저 만들어 두겠습니다."
      ]
    },
    {
      "cell_type": "markdown",
      "metadata": {
        "id": "wcNl0aWbS0OA"
      },
      "source": [
        "### Dataset\n",
        "\n",
        "저희가 이번 실습에서 사용할 데이터셋은 Wikipedia에 있는 영문 글들을 가져온 WikiTree dataset입니다.\n",
        "저희가 불러올 데이터는 가장 작은 WikiTree dataset에서 자주 사용되지 않는 단어나 영어가 아닌 단어들은 <unk>으로 이미 전처리가 되어있습니다."
      ]
    },
    {
      "cell_type": "code",
      "metadata": {
        "id": "CKf8zNuISiC2"
      },
      "source": [
        "import urllib\n",
        "with urllib.request.urlopen('https://raw.githubusercontent.com/yunjey/pytorch-tutorial/master/tutorials/02-intermediate/language_model/data/train.txt') as f:\n",
        "    data = f.readlines()"
      ],
      "execution_count": 32,
      "outputs": []
    },
    {
      "cell_type": "code",
      "metadata": {
        "id": "jBLNOlRKSpOI",
        "colab": {
          "base_uri": "https://localhost:8080/"
        },
        "outputId": "9ca5cfd2-4dcd-41de-ad84-d53c9d6a5282"
      },
      "source": [
        "print('num_sentence:',len(data))\n",
        "data[100]"
      ],
      "execution_count": 33,
      "outputs": [
        {
          "output_type": "stream",
          "name": "stdout",
          "text": [
            "num_sentence: 42068\n"
          ]
        },
        {
          "output_type": "execute_result",
          "data": {
            "text/plain": [
              "b\" plans that give advertisers discounts for maintaining or increasing ad spending have become permanent <unk> at the news <unk> and underscore the fierce competition between newsweek time warner inc. 's time magazine and <unk> b. <unk> 's u.s. news & world report \\n\""
            ]
          },
          "metadata": {},
          "execution_count": 33
        }
      ]
    },
    {
      "cell_type": "code",
      "metadata": {
        "id": "OfLTv1EPbSwj",
        "colab": {
          "base_uri": "https://localhost:8080/",
          "height": 265
        },
        "outputId": "e7e5464c-0059-4ce6-e619-a97185c05f73"
      },
      "source": [
        "seq_length_list = []\n",
        "for line in data:\n",
        "    seq_length_list.append(len(line.split()))\n",
        "\n",
        "counts, bins = np.histogram(seq_length_list, bins=20)\n",
        "plt.hist(bins[:-1], bins, weights=counts)\n",
        "plt.show()"
      ],
      "execution_count": 34,
      "outputs": [
        {
          "output_type": "display_data",
          "data": {
            "text/plain": [
              "<Figure size 432x288 with 1 Axes>"
            ],
            "image/png": "[encoded data removed]"
          },
          "metadata": {
            "needs_background": "light"
          }
        }
      ]
    },
    {
      "cell_type": "markdown",
      "metadata": {
        "id": "4SdattmOcRwC"
      },
      "source": [
        "데이터에 있는 문장 길이들의 histogram을 볼 때 대부분의 data의 문장 길이가 50에 미치지 못하기 때문에 \\\\\n",
        "model에 집어넣을 최대 문장 길이를 50으로 세팅해두도록 하겠습니다."
      ]
    },
    {
      "cell_type": "code",
      "metadata": {
        "id": "g7MuFqsKcd4U"
      },
      "source": [
        "max_seq_len = 50"
      ],
      "execution_count": 35,
      "outputs": []
    },
    {
      "cell_type": "markdown",
      "metadata": {
        "id": "IyMpsyX8TwYy"
      },
      "source": [
        "### Build Dictionary\n",
        "\n",
        "먼저 text 데이터를 모델에 넣어주기 위해서는 text에 존재하는 단어들을 index로 변환해주어야 합니다.\n",
        "\n",
        "이를 위해서는 단어를 index로 변환해주는 word2idx dictionary와 다시 index를 단어로 변환해주는 idx2word dictionary를 만들어야 합니다.\n"
      ]
    },
    {
      "cell_type": "code",
      "metadata": {
        "id": "cZmyZhcpTvZz"
      },
      "source": [
        "def build_dictionary(data, max_seq_len):\n",
        "    word2idx = {}\n",
        "    idx2word = {}\n",
        "    ## Build Dictionary\n",
        "    word2idx['<pad>'] = 0\n",
        "    word2idx['<unk>'] = 1\n",
        "    idx2word[0] = '<pad>'\n",
        "    idx2word[1] = '<unk>'\n",
        "    idx = 2\n",
        "    for line in data:\n",
        "        words = line.decode('utf-8').split()\n",
        "        words = words[:max_seq_len]        \n",
        "        ### Build Dictionary to convert word to index and index to word\n",
        "        ### YOUR CODE HERE (~ 5 lines)\n",
        "        for word in words:\n",
        "            if word not in word2idx:\n",
        "                word2idx[word] = idx\n",
        "                idx2word[idx] = word\n",
        "                idx += 1\n",
        "        #데이터를 순회하면서 사전에 없는 단어를 새로 추가합니다.\n",
        "        #word -> index, index -> word 둘다 빠르게 인덱싱할 수 있도록 따로 딕셔너리형태로 만듭니다.\n",
        "    return word2idx, idx2word\n",
        "\n",
        "word2idx, idx2word = build_dictionary(data, max_seq_len)"
      ],
      "execution_count": 36,
      "outputs": []
    },
    {
      "cell_type": "code",
      "metadata": {
        "id": "EPfV0OTc4Xdr",
        "colab": {
          "base_uri": "https://localhost:8080/"
        },
        "outputId": "c5140f9c-c10e-4f6c-e499-15ae005b305d"
      },
      "source": [
        "if len(word2idx) == len(idx2word) == 10000:\n",
        "    print(\"Test Passed!\")\n",
        "else:\n",
        "    raise AssertionError"
      ],
      "execution_count": 37,
      "outputs": [
        {
          "output_type": "stream",
          "name": "stdout",
          "text": [
            "Test Passed!\n"
          ]
        }
      ]
    },
    {
      "cell_type": "markdown",
      "metadata": {
        "id": "me_m8njoXHrv"
      },
      "source": [
        "### Preprocessing\n",
        "\n",
        "이제 앞서 만든 dictionary를 이용해서 text로된 데이터셋을 index들로 변환시키겠습니다."
      ]
    },
    {
      "cell_type": "code",
      "metadata": {
        "id": "I6fuARgzXEDU"
      },
      "source": [
        "def preprocess(data, word2idx, idx2word, max_seq_len):\n",
        "    tokens = []\n",
        "    for line in data:\n",
        "        words = line.decode('utf-8').split()\n",
        "        words = words[:max_seq_len]\n",
        "        ### Convert dataset with tokens\n",
        "        ### For each line, append <pad> token to match the number of max_seq_len\n",
        "        ### YOUR CODE HERE (~ 4 lines)\n",
        "        words += [\"<pad>\"] * (max_seq_len - len(words))\n",
        "        #words = [\"<pad>\"] * (max_seq_len - len(words)) + words ??\n",
        "        for word in words:\n",
        "            token = word2idx[word]\n",
        "            tokens.append(token)\n",
        "        #필요한 만큼 패딩을 뒤에다 더합니다.\n",
        "        #tokens 배열에 단어를 인덱스로 변환해서 해당 자리에 인덱스를 넣어줍니다.\n",
        "        \n",
        "    return tokens\n",
        "\n",
        "tokens = preprocess(data, word2idx, idx2word, max_seq_len)"
      ],
      "execution_count": 38,
      "outputs": []
    },
    {
      "cell_type": "code",
      "metadata": {
        "id": "VjyvqMgbZnfP",
        "colab": {
          "base_uri": "https://localhost:8080/"
        },
        "outputId": "cc6facf9-9f25-45e5-a840-41465b9a3f65"
      },
      "source": [
        "if len(tokens) == 2103400: #???\n",
        "    print(\"Test Passed!\")\n",
        "else:\n",
        "    raise AssertionError"
      ],
      "execution_count": 39,
      "outputs": [
        {
          "output_type": "stream",
          "name": "stdout",
          "text": [
            "Test Passed!\n"
          ]
        }
      ]
    },
    {
      "cell_type": "markdown",
      "metadata": {
        "id": "jmQxX3BH-SAv"
      },
      "source": [
        "이제 전처리된 Token들을 문장 단위의 배열로 변환시켜 두겠습니다."
      ]
    },
    {
      "cell_type": "code",
      "metadata": {
        "id": "knMvtp23-Jye",
        "colab": {
          "base_uri": "https://localhost:8080/"
        },
        "outputId": "446fee95-3cdd-4bde-feae-7b5dff26bc21"
      },
      "source": [
        "tokens = np.array(tokens).reshape(-1, max_seq_len)\n",
        "print(tokens.shape)\n",
        "tokens[100]"
      ],
      "execution_count": 40,
      "outputs": [
        {
          "output_type": "stream",
          "name": "stdout",
          "text": [
            "(42068, 50)\n"
          ]
        },
        {
          "output_type": "execute_result",
          "data": {
            "text/plain": [
              "array([745,  93, 746, 739, 747, 181, 748, 467, 749, 740, 750, 154, 751,\n",
              "       752,   1, 160,  32, 753,   1,  48, 754,  32, 755, 756, 757, 728,\n",
              "       555, 758,  99, 119, 555, 733,  48,   1, 759,   1, 119, 237, 753,\n",
              "       230, 760, 347,   0,   0,   0,   0,   0,   0,   0,   0])"
            ]
          },
          "metadata": {},
          "execution_count": 40
        }
      ]
    },
    {
      "cell_type": "markdown",
      "metadata": {
        "id": "pceBqmtTZ9g9"
      },
      "source": [
        "### DataLoader\n",
        "\n",
        "이제 전처리된 dataset을 활용하여 PyTorch style의 dataset과 dataloader를 만들도록 하겠습니다.\n",
        "\n",
        "Token형태의 데이터를 PyTorch 스타일의 dataset으로 만들 때 주의할 점은, 추후 embedding matrix에서 indexing을 해주기 위해서 각 token이 LongTensor 형태로 정의되어야 한다는 점입니다."
      ]
    },
    {
      "cell_type": "code",
      "metadata": {
        "id": "1hAwhG1K9iBI"
      },
      "source": [
        "class LMDataset(torch.utils.data.Dataset):\n",
        "    def __init__(self, tokens):\n",
        "        super(LMDataset, self).__init__()\n",
        "        self.PAD = 0\n",
        "        self.UNK = 1\n",
        "        self.tokens = tokens\n",
        "        self._getitem(2)\n",
        "\n",
        "    def _getitem(self, index):\n",
        "        X = self.tokens[index]\n",
        "        y = np.concatenate((X[1:], [self.PAD]))\n",
        "\n",
        "        X = torch.from_numpy(X).unsqueeze(0).long()\n",
        "        y = torch.from_numpy(y).unsqueeze(0).long()\n",
        "\n",
        "        return X, y\n",
        "\n",
        "    def __getitem__(self, index):\n",
        "        X = self.tokens[index]\n",
        "        y = np.concatenate((X[1:], [self.PAD]))\n",
        "\n",
        "        X = torch.from_numpy(X).long()\n",
        "        y = torch.from_numpy(y).long()\n",
        "\n",
        "        return X, y\n",
        "\n",
        "    def __len__(self):\n",
        "        return len(self.tokens)"
      ],
      "execution_count": 41,
      "outputs": []
    },
    {
      "cell_type": "code",
      "metadata": {
        "id": "BiLNqM6kAda1",
        "colab": {
          "base_uri": "https://localhost:8080/"
        },
        "outputId": "a376b141-1ab5-47e4-c4ff-273633d76b87"
      },
      "source": [
        "batch_size = 64\n",
        "dataset = LMDataset(tokens)\n",
        "dataloader = torch.utils.data.DataLoader(dataset, batch_size=batch_size, shuffle=True)\n",
        "\n",
        "print(len(dataset))\n",
        "print(len(dataloader))"
      ],
      "execution_count": 42,
      "outputs": [
        {
          "output_type": "stream",
          "name": "stdout",
          "text": [
            "42068\n",
            "658\n"
          ]
        }
      ]
    },
    {
      "cell_type": "markdown",
      "metadata": {
        "id": "b1nhBnqWxw4a"
      },
      "source": [
        "# 2. Model\n",
        "\n",
        "이번 section에서는 Language Modeling을 위한 Recurrent Model을 직접 만들어보도록 하겠습니다.\n",
        "\n",
        "Standard한 Recurrent Neural Network (RNN) model은 vanishing gradient 문제에 취약하기 때문에, 이번 실습에서는 변형된 RNN구조인 LSTM model을 활용하도록 하겠습니다.\n"
      ]
    },
    {
      "cell_type": "markdown",
      "metadata": {
        "id": "aOoNVt3MDOjl"
      },
      "source": [
        "### LSTM"
      ]
    },
    {
      "cell_type": "markdown",
      "metadata": {
        "id": "9lycT_9vwaJN"
      },
      "source": [
        "LSTM model의 전체적인 구조와 각 gate의 수식은 아래와 같습니다.\n",
        "\n",
        "![](https://drive.google.com/uc?export=view&id=1n93tpNW55Xl4GxZNcJcbUVRhuNCGH38h)"
      ]
    },
    {
      "cell_type": "markdown",
      "metadata": {
        "id": "S1h6nfvYwN8n"
      },
      "source": [
        "![](https://drive.google.com/uc?export=view&id=1nH9U5iD9cO6OVVTbrx-LjypRvcWzbOCU)\n",
        "\n",
        "LSTM의 자세한 동작방식이 궁금하신 분은 아래의 블로그를 참조해주세요.\n",
        "\n",
        "https://colah.github.io/posts/2015-08-Understanding-LSTMs/"
      ]
    },
    {
      "cell_type": "code",
      "metadata": {
        "id": "YDNAysVqxxOk"
      },
      "source": [
        "class LSTMCell(nn.Module):\n",
        "    def __init__(self, input_size, hidden_size):\n",
        "        super(LSTMCell, self).__init__()\n",
        "        # input-gate\n",
        "        self.Wi = nn.Linear(input_size + hidden_size, hidden_size)\n",
        "        # forget-gate\n",
        "        self.Wf = nn.Linear(input_size + hidden_size, hidden_size)\n",
        "        # gate-gate\n",
        "        self.Wg = nn.Linear(input_size + hidden_size, hidden_size)\n",
        "        # output-gate\n",
        "        self.Wo = nn.Linear(input_size + hidden_size, hidden_size)\n",
        "\n",
        "        # non-linearity\n",
        "        self.sigmoid = nn.Sigmoid()\n",
        "        self.tanh = nn.Tanh()\n",
        "\n",
        "    def forward(self, x, h_0, c_0):\n",
        "        \"\"\"\n",
        "        Inputs\n",
        "            input (x): [batch_size, input_size]\n",
        "            hidden_state (h_0): [batch_size, hidden_size]\n",
        "            cell_state (c_0): [batch_size, hidden_size]\n",
        "        Outputs\n",
        "            next_hidden_state (h_1): [batch_size, hidden_size]\n",
        "            next_cell_state (c_1): [batch_size, hidden_size]    \n",
        "        \"\"\"\n",
        "        h_1, c_1 = None, None\n",
        "        input = torch.cat((x, h_0), 1)     #이전 셀의 출력과 이번 셀의 입력이 입력으로 주어짐짐\n",
        "        # Implement LSTM cell as noted above\n",
        "        ### YOUR CODE HERE (~ 6 lines)\n",
        "        i = self.sigmoid(self.Wi(input))   #tanh 활성화 함수를 통과한 값과 곱해짐.\n",
        "        f = self.sigmoid(self.Wf(input))   #이전 셀의 c_0와 곱해짐.\n",
        "        g = self.tanh(self.Wg(input))      #\n",
        "        o = self.sigmoid(self.Wo(input))   #tanh를 통과한 c_1값과 곱해져서 결과가 곱해져서 h_1이 됨.\n",
        "        c_1 = f * c_0 + i* g\n",
        "        h_1 = o * self.tanh(c_1)\n",
        "        return h_1,c_1\n"
      ],
      "execution_count": 43,
      "outputs": []
    },
    {
      "cell_type": "code",
      "metadata": {
        "id": "N0Tff2VCJ56D",
        "colab": {
          "base_uri": "https://localhost:8080/"
        },
        "outputId": "e6394155-076e-43bf-bf00-73b3bfbe7435"
      },
      "source": [
        "def test_lstm():\n",
        "    batch_size = 2\n",
        "    input_size = 5\n",
        "    hidden_size = 3\n",
        "\n",
        "    #torch.manual_seed(1234)\n",
        "    lstm = LSTMCell(input_size ,hidden_size)\n",
        "    def init_weights(m):\n",
        "        if isinstance(m, nn.Linear):\n",
        "            torch.nn.init.constant_(m.weight, 0.1)\n",
        "            m.bias.data.fill_(0.01)\n",
        "    lstm.apply(init_weights)\n",
        "\n",
        "    x = torch.ones(batch_size, input_size) \n",
        "    hx = torch.zeros(batch_size, hidden_size) \n",
        "    cx = torch.zeros(batch_size, hidden_size)\n",
        "\n",
        "    hx, cx = lstm(x, hx, cx)\n",
        "    assert hx.detach().allclose(torch.tensor([[0.1784, 0.1784, 0.1784], \n",
        "                                              [0.1784, 0.1784, 0.1784]]), atol=2e-1), \\\n",
        "            f\"Output of the hidden state does not match.\"\n",
        "    assert cx.detach().allclose(torch.tensor([[0.2936, 0.2936, 0.2936], \n",
        "                                              [0.2936, 0.2936, 0.2936]]), atol=2e-1), \\\n",
        "            f\"Output of the cell state does not match.\"\n",
        "\n",
        "    print(\"==LSTM cell test passed!==\")\n",
        "\n",
        "test_lstm()"
      ],
      "execution_count": 44,
      "outputs": [
        {
          "output_type": "stream",
          "name": "stdout",
          "text": [
            "==LSTM cell test passed!==\n"
          ]
        }
      ]
    },
    {
      "cell_type": "markdown",
      "metadata": {
        "id": "0DxU-78B33dG"
      },
      "source": [
        "## Language Model\n",
        "\n",
        "이제, 위에서 정의한 LSTM Cell을 활용해서 아래와 같은 Langauge Model을 만들어보도록 하겠습니다.\n",
        "\n",
        "\n",
        "![](https://drive.google.com/uc?export=view&id=1nMAbL-g31nERM44dgohA3k9Vj_92hIh-)"
      ]
    },
    {
      "cell_type": "code",
      "metadata": {
        "id": "l0U2s0hux_n6"
      },
      "source": [
        "class LanguageModel(nn.Module):\n",
        "    def __init__(self, input_size=64, hidden_size=64, vocab_size=10000):\n",
        "        super(LanguageModel, self).__init__()\n",
        "        \n",
        "        self.input_layer = nn.Embedding(vocab_size, input_size)\n",
        "        self.hidden_layer = LSTMCell(input_size, hidden_size)\n",
        "        self.output_layer = nn.Linear(hidden_size, vocab_size)\n",
        "\n",
        "\n",
        "    def forward(self, x, hx, cx, predict=False):\n",
        "        \"\"\"\n",
        "        Inputs\n",
        "            input (x): [batch_size]\n",
        "            hidden_state (h_0): [batch_size, hidden_size]\n",
        "            cell_state (c_0): [batch_size, hidden_size]\n",
        "            predict: whether to predict and sample the next word\n",
        "        Outputs\n",
        "            output (ox): [batch_size, hidden_size]\n",
        "            next_hidden_state (h_1): [batch_size, hidden_size]\n",
        "            next_cell_state (c_1): [batch_size, hidden_size]    \n",
        "        \"\"\"\n",
        "        x = self.input_layer(x)\n",
        "        hx, cx = self.hidden_layer(x, hx, cx)\n",
        "        ox = self.output_layer(hx)\n",
        "\n",
        "        if predict == True:\n",
        "            probs = F.softmax(ox, dim=1)\n",
        "            # torch distribution allows sampling operation\n",
        "            # see https://pytorch.org/docs/stable/distributions.html\n",
        "            dist = torch.distributions.Categorical(probs)\n",
        "            ox = dist.sample()\n",
        "\n",
        "        return ox, hx, cx  "
      ],
      "execution_count": 45,
      "outputs": []
    },
    {
      "cell_type": "markdown",
      "metadata": {
        "id": "G-ZpuMhsbBS8"
      },
      "source": [
        "# 3. Trainer\n",
        "\n",
        "자 이제 위에서 구현한 dataloader와 langauge model을 활용해서 모델의 학습을 진행해보도록 하겠습니다.\n"
      ]
    },
    {
      "cell_type": "code",
      "metadata": {
        "id": "y7TY7HmvbRlB"
      },
      "source": [
        "class Trainer():\n",
        "    def __init__(self, \n",
        "                 word2idx, \n",
        "                 idx2word,\n",
        "                 dataloader, \n",
        "                 model, \n",
        "                 criterion,\n",
        "                 optimizer, \n",
        "                 device):\n",
        "        \"\"\"\n",
        "        dataloader: dataloader\n",
        "        model: langauge model\n",
        "        criterion: loss function to evaluate the model (e.g., BCE Loss)\n",
        "        optimizer: optimizer for model\n",
        "        \"\"\"\n",
        "        self.word2idx = word2idx\n",
        "        self.idx2word = idx2word\n",
        "        self.dataloader = dataloader\n",
        "        self.model = model\n",
        "        self.criterion = criterion\n",
        "        self.optimizer = optimizer\n",
        "        self.device = device\n",
        "        \n",
        "    def train(self, epochs = 1):\n",
        "        self.model.to(self.device)\n",
        "        start_time = time.time()\n",
        "        for epoch in range(epochs):\n",
        "            losses = []\n",
        "            for iter, (x_batch, y_batch) in tqdm.tqdm(enumerate(self.dataloader)):\n",
        "                self.model.train()\n",
        "                \n",
        "                batch_size, max_seq_len = x_batch.shape\n",
        "                x_batch = x_batch.to(self.device)\n",
        "                y_batch = y_batch.to(self.device)\n",
        "\n",
        "                # initial hidden-states\n",
        "                hx = torch.zeros(batch_size, hidden_size).to(self.device)\n",
        "                cx = torch.zeros(batch_size, hidden_size).to(self.device)\n",
        "\n",
        "                # Implement LSTM operation\n",
        "                ox_batch = []\n",
        "                # Get output logits for each time sequence and append to the list, ox_batch\n",
        "                # YOUR CODE HERE (~ 4 lines)\n",
        "                for s_idx in range(max_seq_len):\n",
        "                    x=x_batch[:, s_idx]\n",
        "                    ox,hx,cx = self.model(x,hx,cx)\n",
        "                    ox_batch.append(ox)\n",
        "\n",
        "                # outputs are ordered by the time sequence\n",
        "                ox_batch = torch.cat(ox_batch).reshape(max_seq_len, batch_size, -1)\n",
        "                ox_batch = ox_batch.permute(1,0,2).reshape(batch_size*max_seq_len, -1)\n",
        "                y_batch = y_batch.reshape(-1)\n",
        "\n",
        "                self.model.zero_grad()\n",
        "                loss = self.criterion(ox_batch, y_batch)\n",
        "                loss.backward()\n",
        "                self.optimizer.step()\n",
        "                losses.append(loss.item())\n",
        "\n",
        "            end_time = time.time() - start_time\n",
        "            end_time = str(datetime.timedelta(seconds=end_time))[:-7]\n",
        "            print('Time [%s], Epoch [%d/%d], loss: %.4f'\n",
        "                  % (end_time, epoch+1, epochs, np.mean(losses)))\n",
        "            if epoch % 5 == 0:\n",
        "                generated_sentences = self.test()\n",
        "                print('[Generated Sentences]')\n",
        "                for sentence in generated_sentences:\n",
        "                    print(sentence)\n",
        "            \n",
        "    def test(self):\n",
        "        # Test model to genereate the sentences\n",
        "        self.model.eval()\n",
        "        num_sentence = 5\n",
        "        max_seq_len = 50\n",
        "\n",
        "        # initial hidden-states\n",
        "        outs = []\n",
        "        x = torch.randint(0, 10000, (num_sentence,)).to(self.device)\n",
        "        hx = torch.zeros(num_sentence, hidden_size).to(self.device)\n",
        "        cx = torch.zeros(num_sentence, hidden_size).to(self.device)\n",
        "\n",
        "        outs.append(x)\n",
        "        with torch.no_grad():\n",
        "            for s_idx in range(max_seq_len-1):\n",
        "                x, hx, cx = self.model(x, hx, cx, predict=True)\n",
        "                outs.append(x)\n",
        "        outs = torch.cat(outs).reshape(max_seq_len, num_sentence)\n",
        "        outs = outs.permute(1, 0)\n",
        "        outs = outs.detach().cpu().numpy()\n",
        "\n",
        "        sentences = []\n",
        "        for out in outs:\n",
        "            sentence = []\n",
        "            for token_idx in out:\n",
        "                word = self.idx2word[token_idx]\n",
        "                sentence.append(word)\n",
        "            sentences.append(sentence)\n",
        "       \n",
        "        return sentences"
      ],
      "execution_count": 46,
      "outputs": []
    },
    {
      "cell_type": "code",
      "source": [
        "for iter,(x_batch,y_batch) in (enumerate(dataloader)):\n",
        "    print(x_batch.shape)"
      ],
      "metadata": {
        "colab": {
          "base_uri": "https://localhost:8080/"
        },
        "id": "hU2fRv445DrI",
        "outputId": "0ce46366-3a07-4966-e415-fbf7387cd0b1"
      },
      "execution_count": 47,
      "outputs": [
        {
          "output_type": "stream",
          "name": "stdout",
          "text": [
            "torch.Size([64, 50])\n",
            "torch.Size([64, 50])\n",
            "torch.Size([64, 50])\n",
            "torch.Size([64, 50])\n",
            "torch.Size([64, 50])\n",
            "torch.Size([64, 50])\n",
            "torch.Size([64, 50])\n",
            "torch.Size([64, 50])\n",
            "torch.Size([64, 50])\n",
            "torch.Size([64, 50])\n",
            "torch.Size([64, 50])\n",
            "torch.Size([64, 50])\n",
            "torch.Size([64, 50])\n",
            "torch.Size([64, 50])\n",
            "torch.Size([64, 50])\n",
            "torch.Size([64, 50])\n",
            "torch.Size([64, 50])\n",
            "torch.Size([64, 50])\n",
            "torch.Size([64, 50])\n",
            "torch.Size([64, 50])\n",
            "torch.Size([64, 50])\n",
            "torch.Size([64, 50])\n",
            "torch.Size([64, 50])\n",
            "torch.Size([64, 50])\n",
            "torch.Size([64, 50])\n",
            "torch.Size([64, 50])\n",
            "torch.Size([64, 50])\n",
            "torch.Size([64, 50])\n",
            "torch.Size([64, 50])\n",
            "torch.Size([64, 50])\n",
            "torch.Size([64, 50])\n",
            "torch.Size([64, 50])\n",
            "torch.Size([64, 50])\n",
            "torch.Size([64, 50])\n",
            "torch.Size([64, 50])\n",
            "torch.Size([64, 50])\n",
            "torch.Size([64, 50])\n",
            "torch.Size([64, 50])\n",
            "torch.Size([64, 50])\n",
            "torch.Size([64, 50])\n",
            "torch.Size([64, 50])\n",
            "torch.Size([64, 50])\n",
            "torch.Size([64, 50])\n",
            "torch.Size([64, 50])\n",
            "torch.Size([64, 50])\n",
            "torch.Size([64, 50])\n",
            "torch.Size([64, 50])\n",
            "torch.Size([64, 50])\n",
            "torch.Size([64, 50])\n",
            "torch.Size([64, 50])\n",
            "torch.Size([64, 50])\n",
            "torch.Size([64, 50])\n",
            "torch.Size([64, 50])\n",
            "torch.Size([64, 50])\n",
            "torch.Size([64, 50])\n",
            "torch.Size([64, 50])\n",
            "torch.Size([64, 50])\n",
            "torch.Size([64, 50])\n",
            "torch.Size([64, 50])\n",
            "torch.Size([64, 50])\n",
            "torch.Size([64, 50])\n",
            "torch.Size([64, 50])\n",
            "torch.Size([64, 50])\n",
            "torch.Size([64, 50])\n",
            "torch.Size([64, 50])\n",
            "torch.Size([64, 50])\n",
            "torch.Size([64, 50])\n",
            "torch.Size([64, 50])\n",
            "torch.Size([64, 50])\n",
            "torch.Size([64, 50])\n",
            "torch.Size([64, 50])\n",
            "torch.Size([64, 50])\n",
            "torch.Size([64, 50])\n",
            "torch.Size([64, 50])\n",
            "torch.Size([64, 50])\n",
            "torch.Size([64, 50])\n",
            "torch.Size([64, 50])\n",
            "torch.Size([64, 50])\n",
            "torch.Size([64, 50])\n",
            "torch.Size([64, 50])\n",
            "torch.Size([64, 50])\n",
            "torch.Size([64, 50])\n",
            "torch.Size([64, 50])\n",
            "torch.Size([64, 50])\n",
            "torch.Size([64, 50])\n",
            "torch.Size([64, 50])\n",
            "torch.Size([64, 50])\n",
            "torch.Size([64, 50])\n",
            "torch.Size([64, 50])\n",
            "torch.Size([64, 50])\n",
            "torch.Size([64, 50])\n",
            "torch.Size([64, 50])\n",
            "torch.Size([64, 50])\n",
            "torch.Size([64, 50])\n",
            "torch.Size([64, 50])\n",
            "torch.Size([64, 50])\n",
            "torch.Size([64, 50])\n",
            "torch.Size([64, 50])\n",
            "torch.Size([64, 50])\n",
            "torch.Size([64, 50])\n",
            "torch.Size([64, 50])\n",
            "torch.Size([64, 50])\n",
            "torch.Size([64, 50])\n",
            "torch.Size([64, 50])\n",
            "torch.Size([64, 50])\n",
            "torch.Size([64, 50])\n",
            "torch.Size([64, 50])\n",
            "torch.Size([64, 50])\n",
            "torch.Size([64, 50])\n",
            "torch.Size([64, 50])\n",
            "torch.Size([64, 50])\n",
            "torch.Size([64, 50])\n",
            "torch.Size([64, 50])\n",
            "torch.Size([64, 50])\n",
            "torch.Size([64, 50])\n",
            "torch.Size([64, 50])\n",
            "torch.Size([64, 50])\n",
            "torch.Size([64, 50])\n",
            "torch.Size([64, 50])\n",
            "torch.Size([64, 50])\n",
            "torch.Size([64, 50])\n",
            "torch.Size([64, 50])\n",
            "torch.Size([64, 50])\n",
            "torch.Size([64, 50])\n",
            "torch.Size([64, 50])\n",
            "torch.Size([64, 50])\n",
            "torch.Size([64, 50])\n",
            "torch.Size([64, 50])\n",
            "torch.Size([64, 50])\n",
            "torch.Size([64, 50])\n",
            "torch.Size([64, 50])\n",
            "torch.Size([64, 50])\n",
            "torch.Size([64, 50])\n",
            "torch.Size([64, 50])\n",
            "torch.Size([64, 50])\n",
            "torch.Size([64, 50])\n",
            "torch.Size([64, 50])\n",
            "torch.Size([64, 50])\n",
            "torch.Size([64, 50])\n",
            "torch.Size([64, 50])\n",
            "torch.Size([64, 50])\n",
            "torch.Size([64, 50])\n",
            "torch.Size([64, 50])\n",
            "torch.Size([64, 50])\n",
            "torch.Size([64, 50])\n",
            "torch.Size([64, 50])\n",
            "torch.Size([64, 50])\n",
            "torch.Size([64, 50])\n",
            "torch.Size([64, 50])\n",
            "torch.Size([64, 50])\n",
            "torch.Size([64, 50])\n",
            "torch.Size([64, 50])\n",
            "torch.Size([64, 50])\n",
            "torch.Size([64, 50])\n",
            "torch.Size([64, 50])\n",
            "torch.Size([64, 50])\n",
            "torch.Size([64, 50])\n",
            "torch.Size([64, 50])\n",
            "torch.Size([64, 50])\n",
            "torch.Size([64, 50])\n",
            "torch.Size([64, 50])\n",
            "torch.Size([64, 50])\n",
            "torch.Size([64, 50])\n",
            "torch.Size([64, 50])\n",
            "torch.Size([64, 50])\n",
            "torch.Size([64, 50])\n",
            "torch.Size([64, 50])\n",
            "torch.Size([64, 50])\n",
            "torch.Size([64, 50])\n",
            "torch.Size([64, 50])\n",
            "torch.Size([64, 50])\n",
            "torch.Size([64, 50])\n",
            "torch.Size([64, 50])\n",
            "torch.Size([64, 50])\n",
            "torch.Size([64, 50])\n",
            "torch.Size([64, 50])\n",
            "torch.Size([64, 50])\n",
            "torch.Size([64, 50])\n",
            "torch.Size([64, 50])\n",
            "torch.Size([64, 50])\n",
            "torch.Size([64, 50])\n",
            "torch.Size([64, 50])\n",
            "torch.Size([64, 50])\n",
            "torch.Size([64, 50])\n",
            "torch.Size([64, 50])\n",
            "torch.Size([64, 50])\n",
            "torch.Size([64, 50])\n",
            "torch.Size([64, 50])\n",
            "torch.Size([64, 50])\n",
            "torch.Size([64, 50])\n",
            "torch.Size([64, 50])\n",
            "torch.Size([64, 50])\n",
            "torch.Size([64, 50])\n",
            "torch.Size([64, 50])\n",
            "torch.Size([64, 50])\n",
            "torch.Size([64, 50])\n",
            "torch.Size([64, 50])\n",
            "torch.Size([64, 50])\n",
            "torch.Size([64, 50])\n",
            "torch.Size([64, 50])\n",
            "torch.Size([64, 50])\n",
            "torch.Size([64, 50])\n",
            "torch.Size([64, 50])\n",
            "torch.Size([64, 50])\n",
            "torch.Size([64, 50])\n",
            "torch.Size([64, 50])\n",
            "torch.Size([64, 50])\n",
            "torch.Size([64, 50])\n",
            "torch.Size([64, 50])\n",
            "torch.Size([64, 50])\n",
            "torch.Size([64, 50])\n",
            "torch.Size([64, 50])\n",
            "torch.Size([64, 50])\n",
            "torch.Size([64, 50])\n",
            "torch.Size([64, 50])\n",
            "torch.Size([64, 50])\n",
            "torch.Size([64, 50])\n",
            "torch.Size([64, 50])\n",
            "torch.Size([64, 50])\n",
            "torch.Size([64, 50])\n",
            "torch.Size([64, 50])\n",
            "torch.Size([64, 50])\n",
            "torch.Size([64, 50])\n",
            "torch.Size([64, 50])\n",
            "torch.Size([64, 50])\n",
            "torch.Size([64, 50])\n",
            "torch.Size([64, 50])\n",
            "torch.Size([64, 50])\n",
            "torch.Size([64, 50])\n",
            "torch.Size([64, 50])\n",
            "torch.Size([64, 50])\n",
            "torch.Size([64, 50])\n",
            "torch.Size([64, 50])\n",
            "torch.Size([64, 50])\n",
            "torch.Size([64, 50])\n",
            "torch.Size([64, 50])\n",
            "torch.Size([64, 50])\n",
            "torch.Size([64, 50])\n",
            "torch.Size([64, 50])\n",
            "torch.Size([64, 50])\n",
            "torch.Size([64, 50])\n",
            "torch.Size([64, 50])\n",
            "torch.Size([64, 50])\n",
            "torch.Size([64, 50])\n",
            "torch.Size([64, 50])\n",
            "torch.Size([64, 50])\n",
            "torch.Size([64, 50])\n",
            "torch.Size([64, 50])\n",
            "torch.Size([64, 50])\n",
            "torch.Size([64, 50])\n",
            "torch.Size([64, 50])\n",
            "torch.Size([64, 50])\n",
            "torch.Size([64, 50])\n",
            "torch.Size([64, 50])\n",
            "torch.Size([64, 50])\n",
            "torch.Size([64, 50])\n",
            "torch.Size([64, 50])\n",
            "torch.Size([64, 50])\n",
            "torch.Size([64, 50])\n",
            "torch.Size([64, 50])\n",
            "torch.Size([64, 50])\n",
            "torch.Size([64, 50])\n",
            "torch.Size([64, 50])\n",
            "torch.Size([64, 50])\n",
            "torch.Size([64, 50])\n",
            "torch.Size([64, 50])\n",
            "torch.Size([64, 50])\n",
            "torch.Size([64, 50])\n",
            "torch.Size([64, 50])\n",
            "torch.Size([64, 50])\n",
            "torch.Size([64, 50])\n",
            "torch.Size([64, 50])\n",
            "torch.Size([64, 50])\n",
            "torch.Size([64, 50])\n",
            "torch.Size([64, 50])\n",
            "torch.Size([64, 50])\n",
            "torch.Size([64, 50])\n",
            "torch.Size([64, 50])\n",
            "torch.Size([64, 50])\n",
            "torch.Size([64, 50])\n",
            "torch.Size([64, 50])\n",
            "torch.Size([64, 50])\n",
            "torch.Size([64, 50])\n",
            "torch.Size([64, 50])\n",
            "torch.Size([64, 50])\n",
            "torch.Size([64, 50])\n",
            "torch.Size([64, 50])\n",
            "torch.Size([64, 50])\n",
            "torch.Size([64, 50])\n",
            "torch.Size([64, 50])\n",
            "torch.Size([64, 50])\n",
            "torch.Size([64, 50])\n",
            "torch.Size([64, 50])\n",
            "torch.Size([64, 50])\n",
            "torch.Size([64, 50])\n",
            "torch.Size([64, 50])\n",
            "torch.Size([64, 50])\n",
            "torch.Size([64, 50])\n",
            "torch.Size([64, 50])\n",
            "torch.Size([64, 50])\n",
            "torch.Size([64, 50])\n",
            "torch.Size([64, 50])\n",
            "torch.Size([64, 50])\n",
            "torch.Size([64, 50])\n",
            "torch.Size([64, 50])\n",
            "torch.Size([64, 50])\n",
            "torch.Size([64, 50])\n",
            "torch.Size([64, 50])\n",
            "torch.Size([64, 50])\n",
            "torch.Size([64, 50])\n",
            "torch.Size([64, 50])\n",
            "torch.Size([64, 50])\n",
            "torch.Size([64, 50])\n",
            "torch.Size([64, 50])\n",
            "torch.Size([64, 50])\n",
            "torch.Size([64, 50])\n",
            "torch.Size([64, 50])\n",
            "torch.Size([64, 50])\n",
            "torch.Size([64, 50])\n",
            "torch.Size([64, 50])\n",
            "torch.Size([64, 50])\n",
            "torch.Size([64, 50])\n",
            "torch.Size([64, 50])\n",
            "torch.Size([64, 50])\n",
            "torch.Size([64, 50])\n",
            "torch.Size([64, 50])\n",
            "torch.Size([64, 50])\n",
            "torch.Size([64, 50])\n",
            "torch.Size([64, 50])\n",
            "torch.Size([64, 50])\n",
            "torch.Size([64, 50])\n",
            "torch.Size([64, 50])\n",
            "torch.Size([64, 50])\n",
            "torch.Size([64, 50])\n",
            "torch.Size([64, 50])\n",
            "torch.Size([64, 50])\n",
            "torch.Size([64, 50])\n",
            "torch.Size([64, 50])\n",
            "torch.Size([64, 50])\n",
            "torch.Size([64, 50])\n",
            "torch.Size([64, 50])\n",
            "torch.Size([64, 50])\n",
            "torch.Size([64, 50])\n",
            "torch.Size([64, 50])\n",
            "torch.Size([64, 50])\n",
            "torch.Size([64, 50])\n",
            "torch.Size([64, 50])\n",
            "torch.Size([64, 50])\n",
            "torch.Size([64, 50])\n",
            "torch.Size([64, 50])\n",
            "torch.Size([64, 50])\n",
            "torch.Size([64, 50])\n",
            "torch.Size([64, 50])\n",
            "torch.Size([64, 50])\n",
            "torch.Size([64, 50])\n",
            "torch.Size([64, 50])\n",
            "torch.Size([64, 50])\n",
            "torch.Size([64, 50])\n",
            "torch.Size([64, 50])\n",
            "torch.Size([64, 50])\n",
            "torch.Size([64, 50])\n",
            "torch.Size([64, 50])\n",
            "torch.Size([64, 50])\n",
            "torch.Size([64, 50])\n",
            "torch.Size([64, 50])\n",
            "torch.Size([64, 50])\n",
            "torch.Size([64, 50])\n",
            "torch.Size([64, 50])\n",
            "torch.Size([64, 50])\n",
            "torch.Size([64, 50])\n",
            "torch.Size([64, 50])\n",
            "torch.Size([64, 50])\n",
            "torch.Size([64, 50])\n",
            "torch.Size([64, 50])\n",
            "torch.Size([64, 50])\n",
            "torch.Size([64, 50])\n",
            "torch.Size([64, 50])\n",
            "torch.Size([64, 50])\n",
            "torch.Size([64, 50])\n",
            "torch.Size([64, 50])\n",
            "torch.Size([64, 50])\n",
            "torch.Size([64, 50])\n",
            "torch.Size([64, 50])\n",
            "torch.Size([64, 50])\n",
            "torch.Size([64, 50])\n",
            "torch.Size([64, 50])\n",
            "torch.Size([64, 50])\n",
            "torch.Size([64, 50])\n",
            "torch.Size([64, 50])\n",
            "torch.Size([64, 50])\n",
            "torch.Size([64, 50])\n",
            "torch.Size([64, 50])\n",
            "torch.Size([64, 50])\n",
            "torch.Size([64, 50])\n",
            "torch.Size([64, 50])\n",
            "torch.Size([64, 50])\n",
            "torch.Size([64, 50])\n",
            "torch.Size([64, 50])\n",
            "torch.Size([64, 50])\n",
            "torch.Size([64, 50])\n",
            "torch.Size([64, 50])\n",
            "torch.Size([64, 50])\n",
            "torch.Size([64, 50])\n",
            "torch.Size([64, 50])\n",
            "torch.Size([64, 50])\n",
            "torch.Size([64, 50])\n",
            "torch.Size([64, 50])\n",
            "torch.Size([64, 50])\n",
            "torch.Size([64, 50])\n",
            "torch.Size([64, 50])\n",
            "torch.Size([64, 50])\n",
            "torch.Size([64, 50])\n",
            "torch.Size([64, 50])\n",
            "torch.Size([64, 50])\n",
            "torch.Size([64, 50])\n",
            "torch.Size([64, 50])\n",
            "torch.Size([64, 50])\n",
            "torch.Size([64, 50])\n",
            "torch.Size([64, 50])\n",
            "torch.Size([64, 50])\n",
            "torch.Size([64, 50])\n",
            "torch.Size([64, 50])\n",
            "torch.Size([64, 50])\n",
            "torch.Size([64, 50])\n",
            "torch.Size([64, 50])\n",
            "torch.Size([64, 50])\n",
            "torch.Size([64, 50])\n",
            "torch.Size([64, 50])\n",
            "torch.Size([64, 50])\n",
            "torch.Size([64, 50])\n",
            "torch.Size([64, 50])\n",
            "torch.Size([64, 50])\n",
            "torch.Size([64, 50])\n",
            "torch.Size([64, 50])\n",
            "torch.Size([64, 50])\n",
            "torch.Size([64, 50])\n",
            "torch.Size([64, 50])\n",
            "torch.Size([64, 50])\n",
            "torch.Size([64, 50])\n",
            "torch.Size([64, 50])\n",
            "torch.Size([64, 50])\n",
            "torch.Size([64, 50])\n",
            "torch.Size([64, 50])\n",
            "torch.Size([64, 50])\n",
            "torch.Size([64, 50])\n",
            "torch.Size([64, 50])\n",
            "torch.Size([64, 50])\n",
            "torch.Size([64, 50])\n",
            "torch.Size([64, 50])\n",
            "torch.Size([64, 50])\n",
            "torch.Size([64, 50])\n",
            "torch.Size([64, 50])\n",
            "torch.Size([64, 50])\n",
            "torch.Size([64, 50])\n",
            "torch.Size([64, 50])\n",
            "torch.Size([64, 50])\n",
            "torch.Size([64, 50])\n",
            "torch.Size([64, 50])\n",
            "torch.Size([64, 50])\n",
            "torch.Size([64, 50])\n",
            "torch.Size([64, 50])\n",
            "torch.Size([64, 50])\n",
            "torch.Size([64, 50])\n",
            "torch.Size([64, 50])\n",
            "torch.Size([64, 50])\n",
            "torch.Size([64, 50])\n",
            "torch.Size([64, 50])\n",
            "torch.Size([64, 50])\n",
            "torch.Size([64, 50])\n",
            "torch.Size([64, 50])\n",
            "torch.Size([64, 50])\n",
            "torch.Size([64, 50])\n",
            "torch.Size([64, 50])\n",
            "torch.Size([64, 50])\n",
            "torch.Size([64, 50])\n",
            "torch.Size([64, 50])\n",
            "torch.Size([64, 50])\n",
            "torch.Size([64, 50])\n",
            "torch.Size([64, 50])\n",
            "torch.Size([64, 50])\n",
            "torch.Size([64, 50])\n",
            "torch.Size([64, 50])\n",
            "torch.Size([64, 50])\n",
            "torch.Size([64, 50])\n",
            "torch.Size([64, 50])\n",
            "torch.Size([64, 50])\n",
            "torch.Size([64, 50])\n",
            "torch.Size([64, 50])\n",
            "torch.Size([64, 50])\n",
            "torch.Size([64, 50])\n",
            "torch.Size([64, 50])\n",
            "torch.Size([64, 50])\n",
            "torch.Size([64, 50])\n",
            "torch.Size([64, 50])\n",
            "torch.Size([64, 50])\n",
            "torch.Size([64, 50])\n",
            "torch.Size([64, 50])\n",
            "torch.Size([64, 50])\n",
            "torch.Size([64, 50])\n",
            "torch.Size([64, 50])\n",
            "torch.Size([64, 50])\n",
            "torch.Size([64, 50])\n",
            "torch.Size([64, 50])\n",
            "torch.Size([64, 50])\n",
            "torch.Size([64, 50])\n",
            "torch.Size([64, 50])\n",
            "torch.Size([64, 50])\n",
            "torch.Size([64, 50])\n",
            "torch.Size([64, 50])\n",
            "torch.Size([64, 50])\n",
            "torch.Size([64, 50])\n",
            "torch.Size([64, 50])\n",
            "torch.Size([64, 50])\n",
            "torch.Size([64, 50])\n",
            "torch.Size([64, 50])\n",
            "torch.Size([64, 50])\n",
            "torch.Size([64, 50])\n",
            "torch.Size([64, 50])\n",
            "torch.Size([64, 50])\n",
            "torch.Size([64, 50])\n",
            "torch.Size([64, 50])\n",
            "torch.Size([64, 50])\n",
            "torch.Size([64, 50])\n",
            "torch.Size([64, 50])\n",
            "torch.Size([64, 50])\n",
            "torch.Size([64, 50])\n",
            "torch.Size([64, 50])\n",
            "torch.Size([64, 50])\n",
            "torch.Size([64, 50])\n",
            "torch.Size([64, 50])\n",
            "torch.Size([64, 50])\n",
            "torch.Size([64, 50])\n",
            "torch.Size([64, 50])\n",
            "torch.Size([64, 50])\n",
            "torch.Size([64, 50])\n",
            "torch.Size([64, 50])\n",
            "torch.Size([64, 50])\n",
            "torch.Size([64, 50])\n",
            "torch.Size([64, 50])\n",
            "torch.Size([64, 50])\n",
            "torch.Size([64, 50])\n",
            "torch.Size([64, 50])\n",
            "torch.Size([64, 50])\n",
            "torch.Size([64, 50])\n",
            "torch.Size([64, 50])\n",
            "torch.Size([64, 50])\n",
            "torch.Size([64, 50])\n",
            "torch.Size([64, 50])\n",
            "torch.Size([64, 50])\n",
            "torch.Size([64, 50])\n",
            "torch.Size([64, 50])\n",
            "torch.Size([64, 50])\n",
            "torch.Size([64, 50])\n",
            "torch.Size([64, 50])\n",
            "torch.Size([64, 50])\n",
            "torch.Size([64, 50])\n",
            "torch.Size([64, 50])\n",
            "torch.Size([64, 50])\n",
            "torch.Size([64, 50])\n",
            "torch.Size([64, 50])\n",
            "torch.Size([64, 50])\n",
            "torch.Size([64, 50])\n",
            "torch.Size([64, 50])\n",
            "torch.Size([64, 50])\n",
            "torch.Size([64, 50])\n",
            "torch.Size([64, 50])\n",
            "torch.Size([64, 50])\n",
            "torch.Size([64, 50])\n",
            "torch.Size([64, 50])\n",
            "torch.Size([64, 50])\n",
            "torch.Size([64, 50])\n",
            "torch.Size([64, 50])\n",
            "torch.Size([64, 50])\n",
            "torch.Size([64, 50])\n",
            "torch.Size([64, 50])\n",
            "torch.Size([64, 50])\n",
            "torch.Size([64, 50])\n",
            "torch.Size([64, 50])\n",
            "torch.Size([64, 50])\n",
            "torch.Size([64, 50])\n",
            "torch.Size([64, 50])\n",
            "torch.Size([64, 50])\n",
            "torch.Size([64, 50])\n",
            "torch.Size([64, 50])\n",
            "torch.Size([64, 50])\n",
            "torch.Size([64, 50])\n",
            "torch.Size([64, 50])\n",
            "torch.Size([64, 50])\n",
            "torch.Size([64, 50])\n",
            "torch.Size([64, 50])\n",
            "torch.Size([64, 50])\n",
            "torch.Size([64, 50])\n",
            "torch.Size([64, 50])\n",
            "torch.Size([64, 50])\n",
            "torch.Size([64, 50])\n",
            "torch.Size([64, 50])\n",
            "torch.Size([64, 50])\n",
            "torch.Size([64, 50])\n",
            "torch.Size([64, 50])\n",
            "torch.Size([64, 50])\n",
            "torch.Size([64, 50])\n",
            "torch.Size([64, 50])\n",
            "torch.Size([64, 50])\n",
            "torch.Size([64, 50])\n",
            "torch.Size([64, 50])\n",
            "torch.Size([64, 50])\n",
            "torch.Size([64, 50])\n",
            "torch.Size([64, 50])\n",
            "torch.Size([64, 50])\n",
            "torch.Size([64, 50])\n",
            "torch.Size([64, 50])\n",
            "torch.Size([64, 50])\n",
            "torch.Size([64, 50])\n",
            "torch.Size([64, 50])\n",
            "torch.Size([64, 50])\n",
            "torch.Size([64, 50])\n",
            "torch.Size([64, 50])\n",
            "torch.Size([64, 50])\n",
            "torch.Size([64, 50])\n",
            "torch.Size([64, 50])\n",
            "torch.Size([64, 50])\n",
            "torch.Size([64, 50])\n",
            "torch.Size([64, 50])\n",
            "torch.Size([64, 50])\n",
            "torch.Size([64, 50])\n",
            "torch.Size([64, 50])\n",
            "torch.Size([64, 50])\n",
            "torch.Size([64, 50])\n",
            "torch.Size([64, 50])\n",
            "torch.Size([64, 50])\n",
            "torch.Size([64, 50])\n",
            "torch.Size([64, 50])\n",
            "torch.Size([64, 50])\n",
            "torch.Size([64, 50])\n",
            "torch.Size([64, 50])\n",
            "torch.Size([64, 50])\n",
            "torch.Size([64, 50])\n",
            "torch.Size([64, 50])\n",
            "torch.Size([64, 50])\n",
            "torch.Size([64, 50])\n",
            "torch.Size([64, 50])\n",
            "torch.Size([64, 50])\n",
            "torch.Size([64, 50])\n",
            "torch.Size([64, 50])\n",
            "torch.Size([64, 50])\n",
            "torch.Size([64, 50])\n",
            "torch.Size([64, 50])\n",
            "torch.Size([64, 50])\n",
            "torch.Size([64, 50])\n",
            "torch.Size([64, 50])\n",
            "torch.Size([64, 50])\n",
            "torch.Size([64, 50])\n",
            "torch.Size([64, 50])\n",
            "torch.Size([64, 50])\n",
            "torch.Size([64, 50])\n",
            "torch.Size([64, 50])\n",
            "torch.Size([64, 50])\n",
            "torch.Size([20, 50])\n"
          ]
        }
      ]
    },
    {
      "cell_type": "code",
      "metadata": {
        "id": "fgEJv1vWqNkS",
        "colab": {
          "base_uri": "https://localhost:8080/"
        },
        "outputId": "db5e682c-2f6f-4f7b-c3dd-9d91a060d98b"
      },
      "source": [
        "lr = 1e-2\n",
        "input_size = 128\n",
        "hidden_size = 128\n",
        "batch_size = 256\n",
        "\n",
        "dataset = LMDataset(tokens)\n",
        "dataloader = torch.utils.data.DataLoader(dataset, batch_size=batch_size, shuffle=True)\n",
        "model = LanguageModel(input_size=input_size, hidden_size=hidden_size)\n",
        "# NOTE: you should use ignore_index to ignore the loss from predicting the <PAD> token\n",
        "criterion = nn.CrossEntropyLoss(ignore_index=0)\n",
        "optimizer = optim.Adam(model.parameters(), lr=lr)\n",
        "device = torch.device('cuda')\n",
        "\n",
        "trainer = Trainer(word2idx = word2idx,\n",
        "                  idx2word = idx2word,\n",
        "                  dataloader=dataloader, \n",
        "                  model = model,\n",
        "                  criterion=criterion,\n",
        "                  optimizer = optimizer,\n",
        "                  device=device)\n",
        "\n",
        "trainer.train(epochs=50)"
      ],
      "execution_count": 48,
      "outputs": [
        {
          "output_type": "stream",
          "name": "stderr",
          "text": [
            "165it [00:12, 13.48it/s]\n"
          ]
        },
        {
          "output_type": "stream",
          "name": "stdout",
          "text": [
            "Time [0:00:12], Epoch [1/50], loss: 6.0501\n",
            "[Generated Sentences]\n",
            "['careful', 'assurances', 'marks', 'trading', 'four', 'would', 'be', 'read', 'would', 'begin', 'unchanged', 'during', 'that', 'first', 'boston', 'said', 'the', 'company', \"'s\", 'strong', 'first', '<unk>', 'of', 'european', 'is', 'another', '<unk>', 'and', 'absence', 'securities', 'says', 'sen.', 'baskets', \"'s\", '<unk>', '<unk>', 'already', 'and', 'marcos', 'cbs', 'ca', \"n't\", 'all', 'lending', 'an', 'ability', 'to', 'be', 'valued', 'to']\n",
            "['serves', 'operating', 'point', 'on', 'bid', 'projects', 'programs', 'by', 'the', '<unk>', 'and', 'said', 'they', 'expect', 'the', 'interest', 'rates', 'in', 'a', 'past', 'step', 'on', 'make', 'service', 'of', 'the', 'press', 'which', 'rose', 'slightly', 'from', 'at', '$', 'N', 'days', 'for', 'various', 'commercial', 'companies', 'holds', 'to', 'mr.', 'lang', 'holds', 'commissions', 'to', 'fly', 'indicating', 'offered', 'yesterday']\n",
            "['factories', 'friday', \"'s\", 'way', 'systems', 'assets', 'and', 'even', 'regarding', 'a', \"'s\", 'group', 'stake', 'is', 'money-market', 'note', 'mr.', 'vila', 'trend', 'hate', 'from', '$', 'N', 'million', 'from', '$', 'N', 'this', 'with', 'the', 'ages', 'for', 'guber', 'a', 'trees', 'and', 'winners', 'programming', 'feet', 'as', 'N', 'N', 'and', 'fell', 'trading', 'elsewhere', 'for', '<unk>', 'hungary', 'would']\n",
            "['nathan', 'continues', 'to', 'N', 'N', 'N', 'lire', 'they', 'wholesale', 'average', 'have', 'profitable', 'breed', 'N', 'million', 'or', 'N', 'in', 'late', 'when', 'it', 'could', 'great', 'operations', 'were', 'spending', 'without', 'start', 'during', 'the', 'pursuit', 'of', 'products', 'beyond', 'with', '<unk>', 'growth', 'as', 'a', 'letter', 'in', 'national', '<unk>', 'in', 'the', 'second', 'states', 'were', \"n't\", 'start-up']\n",
            "['hugo', 'was', 'a', 'majority', 'of', 'new', 'york', 'office', 'automotive', 'and', 'a', 'carrier', 'announced', 'natural', 'office', 'with', 'financing', 'back', 'has', 'been', 'reduced', 'a', '<unk>', 'of', 'continuing', 'banking', 'corp.', 'and', 'other', 'jones', '&', 'co.', 'simply', 'urges', 'engineers', 'expensive', 'after', 'at', 'least', 'the', '<unk>', 'rather', 'had', 'themselves', 'agreed', 'to', 'fill', 'soon', 'you', 'N']\n"
          ]
        },
        {
          "output_type": "stream",
          "name": "stderr",
          "text": [
            "165it [00:12, 13.41it/s]\n"
          ]
        },
        {
          "output_type": "stream",
          "name": "stdout",
          "text": [
            "Time [0:00:24], Epoch [2/50], loss: 5.1946\n"
          ]
        },
        {
          "output_type": "stream",
          "name": "stderr",
          "text": [
            "165it [00:12, 13.56it/s]\n"
          ]
        },
        {
          "output_type": "stream",
          "name": "stdout",
          "text": [
            "Time [0:00:36], Epoch [3/50], loss: 4.8845\n"
          ]
        },
        {
          "output_type": "stream",
          "name": "stderr",
          "text": [
            "165it [00:12, 13.57it/s]\n"
          ]
        },
        {
          "output_type": "stream",
          "name": "stdout",
          "text": [
            "Time [0:00:48], Epoch [4/50], loss: 4.6797\n"
          ]
        },
        {
          "output_type": "stream",
          "name": "stderr",
          "text": [
            "165it [00:12, 13.62it/s]\n"
          ]
        },
        {
          "output_type": "stream",
          "name": "stdout",
          "text": [
            "Time [0:01:01], Epoch [5/50], loss: 4.5227\n"
          ]
        },
        {
          "output_type": "stream",
          "name": "stderr",
          "text": [
            "165it [00:12, 13.40it/s]\n"
          ]
        },
        {
          "output_type": "stream",
          "name": "stdout",
          "text": [
            "Time [0:01:13], Epoch [6/50], loss: 4.3965\n",
            "[Generated Sentences]\n",
            "['along', 'with', 'any', 'new', 'york', 'board', 'of', 'latin', 'america', 'chicago', 'are', 'forecasting', 'their', 'offices', 'in', 'fact', 'steam', 'mr.', '<unk>', \"'s\", 'wade', 'and', 'american', '<unk>', 'group', 'chief', 'executive', 'tank', 'at', 'once', 'and', 'some', 'were', 'going', 'in', 'san', 'francisco', 'jointly', 'and', 'trying', 'to', 'sell', 'beyond', 'price', 'for', 'a', '<unk>', 'poison', '<unk>', 'contract']\n",
            "['loan-loss', 'flat', 'vehicles', 'leave', 'bernard', 'spending', 'for', 'actions', 'according', 'to', 'the', 'highest', 'competition', 'on', 'rumors', 'he', 'does', 'not', 'affect', 'operations', 'an', '<unk>', 'for', 'international', 'business', 'interests', 'and', 'announce', 'philip', 'morris', \"'s\", 'holder', 'practically', '$', 'N', 'million', 'or', '$', 'N', 'costs', 'of', 'free', 'plus', 'interest', 'incentive', 'about', 'N', 'technologies', 'sections', 'of']\n",
            "['jose', \"'s\", 'roll', 'news', 'agency', 'will', 'do', 'the', 'last', 'february', 'of', 'merabank', 'insurance', 'co', 'rolling', 'tumbled', 'to', 'an', 'feed', 'of', 'N', 'billion', 'tons', 'of', 'N', 'of', 'N', 'shares', 'walt', 'disney', 'co', 'japan', 'and', 'eastman', 'kodak', 'said', 'the', 'subsidiary', 'this', 'year', 'and', 'accounted', 'for', 'below', 'N', 'N', 'term', 'bonds', 'available', 'for']\n",
            "['appointment', 'his', 'lloyd', \"'s\", 'proposal', 'offering', 'of', 'national', 'semiconductor', 'systems', 'inc.', '<unk>', 'reported', 'a', 'share', 'of', 'N', 'N', 'bonds', 'less', 'full', 'fees', 'via', 'merrill', 'lynch', '&', 'co.', 'webster', 'analyst', 'with', 'shipping', 'receipts', 'in', 'early', 'manhattan', 'corp.', 'and', '<unk>', 'va.', 'said', 'revenue', 'dominated', 'the', 'second-quarter', 'net', 'income', 'rose', 'to', '$', 'N']\n",
            "['secret', 'stock-market', 'volatility', 'as', 'an', 'demand', 'for', 'membership', 'the', 'site', 'this', 'may', 'be', 'imposed', 'if', 'its', 'sponsors', 'will', 'improve', 'mr.', 'corry', 'says', 'its', 'grand', '<unk>', '<unk>', '<unk>', 'a', '<unk>', 'of', 'commanding', 'on', 'the', 'computers', 'are', 'with', 'first', 'patents', 'for', 'chicago', 'rights', 'to', 'her', '$', 'N', 'political', 'changes', 'in', 'ethiopia', 'to']\n"
          ]
        },
        {
          "output_type": "stream",
          "name": "stderr",
          "text": [
            "165it [00:12, 13.57it/s]\n"
          ]
        },
        {
          "output_type": "stream",
          "name": "stdout",
          "text": [
            "Time [0:01:25], Epoch [7/50], loss: 4.2882\n"
          ]
        },
        {
          "output_type": "stream",
          "name": "stderr",
          "text": [
            "165it [00:12, 13.60it/s]\n"
          ]
        },
        {
          "output_type": "stream",
          "name": "stdout",
          "text": [
            "Time [0:01:37], Epoch [8/50], loss: 4.1964\n"
          ]
        },
        {
          "output_type": "stream",
          "name": "stderr",
          "text": [
            "165it [00:12, 13.61it/s]\n"
          ]
        },
        {
          "output_type": "stream",
          "name": "stdout",
          "text": [
            "Time [0:01:49], Epoch [9/50], loss: 4.1162\n"
          ]
        },
        {
          "output_type": "stream",
          "name": "stderr",
          "text": [
            "165it [00:12, 13.47it/s]\n"
          ]
        },
        {
          "output_type": "stream",
          "name": "stdout",
          "text": [
            "Time [0:02:02], Epoch [10/50], loss: 4.0454\n"
          ]
        },
        {
          "output_type": "stream",
          "name": "stderr",
          "text": [
            "165it [00:12, 13.47it/s]\n"
          ]
        },
        {
          "output_type": "stream",
          "name": "stdout",
          "text": [
            "Time [0:02:14], Epoch [11/50], loss: 3.9815\n",
            "[Generated Sentences]\n",
            "['angeles', 'borrowing', 'loan', 'guarantees', 'costs', 'offset', 'by', 'a', 'percentage', 'basis', 'this', 'year', 'to', 'a', 'strong', 'quarter', 'of', 'cnw', 'training', 'low', 'will', 'be', '<unk>', 'with', 'the', 'approximately', 'N', 'of', 'the', 'company', \"'s\", 'projects', 'would', 'get', 'independent', 'to', 'begin', 'marketing', 'in', 'american', 'airlines', 'parent', 'ual', 'corp.', 'and', 'mr.', 'reagan', \"'s\", 'shareholders', 'plan']\n",
            "['anti-nuclear', 'activists', 'the', 'power', 'in', 'a', '<unk>', 'conference', 'preventing', 'efforts', 'to', 'yesterday', 'in', 'dinkins', 'he', \"'s\", 'already', 'have', 'enough', 'discipline', 'that', 'when', 'inventories', 'are', 'facing', 'doctors', 'and', 'justice', 'officials', 'encouraged', 'for', 'those', 'and', 'modern', 'businesses', 'who', 'frequently', 'come', 'against', 'it', 'but', 'some', 'observers', 'have', 'been', 'whether', 'he', 'has', '<unk>', 'down']\n",
            "['sports', 'rothschild', '<unk>', 'forecast', 'a', 'surge', 'in', 'the', 'u.s.', 'coast', 'guard', 'saying', 'this', 'is', 'that', 'our', '<unk>', 'have', 'some', 'other', 'groups', 'about', 'two-thirds', 'would', '<unk>', 'on', 'routes', '<unk>', 'he', 'said', 'yesterday', 'it', 'will', 'offer', 'one', 'navigation', 'mixte', 'stake', 'in', 'other', 'major', 'businesses', 'and', 'junk', 'bond', 'sales', 'rose', 'N', 'N', 'to']\n",
            "['toy', 'stands', 'dramatically', 'through', 'homes', 'by', 'bristol-myers', 'co.', \"'s\", 'listed', 'stocks', '<unk>', 'decliners', 'N', 'to', 'N', 'on', 'stock', 'with', 'xerox', 'earned', 'pretax', '$', 'N', 'billion', 'a', 'year', 'earlier', 'a', 'significant', 'slowdown', 'in', 'the', 'market', 'as', 'more', 'than', 'N', 'times', 'faster', 'than', 'commercial', 'losers', 'by', 'companies', 'located', 'in', 'new', 'york', 'governor']\n",
            "['threw', 'such', '<unk>', 'and', 'the', 'spot', 'index', 'arbitrage', 'the', '<unk>', 'that', 'could', 'suffer', 'from', 'the', 'mark', 'used', 'to', 'any', 'problem', 'with', 'students', 'attending', 'a', 'volunteer', 'deal', 'and', '<unk>', 'it', 'concluded', 'before', 'the', 'sense', 'of', 'central', 'health', 'and', 'media', 'services', 'management', 'now', 'analyst', 'mark', 'said', 'the', 'filing', 'three', 'investors', 'were', 'in']\n"
          ]
        },
        {
          "output_type": "stream",
          "name": "stderr",
          "text": [
            "165it [00:12, 13.52it/s]\n"
          ]
        },
        {
          "output_type": "stream",
          "name": "stdout",
          "text": [
            "Time [0:02:26], Epoch [12/50], loss: 3.9251\n"
          ]
        },
        {
          "output_type": "stream",
          "name": "stderr",
          "text": [
            "165it [00:12, 13.58it/s]\n"
          ]
        },
        {
          "output_type": "stream",
          "name": "stdout",
          "text": [
            "Time [0:02:38], Epoch [13/50], loss: 3.8731\n"
          ]
        },
        {
          "output_type": "stream",
          "name": "stderr",
          "text": [
            "165it [00:12, 13.51it/s]\n"
          ]
        },
        {
          "output_type": "stream",
          "name": "stdout",
          "text": [
            "Time [0:02:50], Epoch [14/50], loss: 3.8261\n"
          ]
        },
        {
          "output_type": "stream",
          "name": "stderr",
          "text": [
            "165it [00:12, 13.45it/s]\n"
          ]
        },
        {
          "output_type": "stream",
          "name": "stdout",
          "text": [
            "Time [0:03:03], Epoch [15/50], loss: 3.7838\n"
          ]
        },
        {
          "output_type": "stream",
          "name": "stderr",
          "text": [
            "165it [00:12, 13.54it/s]\n"
          ]
        },
        {
          "output_type": "stream",
          "name": "stdout",
          "text": [
            "Time [0:03:15], Epoch [16/50], loss: 3.7462\n",
            "[Generated Sentences]\n",
            "['initial', 'claims', 'for', 'the', '<unk>', 'hotel', 'the', 'evening', 'that', 'accounted', 'for', 'the', 'contract', 'in', 'the', '<unk>', 'funds', 'have', 'been', 'completed', 'the', 'first', 'six', 'months', 'after', 'pittston', 'acquires', 'the', 'rest', '<unk>', 'open', 'to', 'N', 'million', 'australian', 'dollars', 'including', 'N', 'N', 'in', 'simple', 'to', 'N', 'million', 'units', 'thursday', 'will', 'be', 'considered', 'expensive']\n",
            "['presents', 'contributions', 'also', 'this', 'month', 'the', 'spent', 'about', 'she', 'will', 'keep', 'showtime', 'out', 'when', 'terms', 'are', 'going', 'to', 'carry', 'weight', 'and', 'can', 'produce', 'him', 'from', 'the', '<unk>', 'movie', 'before', 'it', '<unk>', 'no', 'extra', 'if', 'i', 'and', 'insight', 'is', 'going', 'to', 'be', 'the', 'deal', 'to', 'have', '<unk>', 'or', 'things', 'on', 'the']\n",
            "['compiled', 'by', 'publishers', 'customers', 'with', '<unk>', 'out', 'of', 'countries', 'and', 'would', \"n't\", 'identify', 'like', 'exxon', 'officials', 'mr.', 'lawson', 'would', 'phase', 'at', 'least', 'once', 'to', 'gut', 'say', 'the', 'increasingly', 'foot', 'race', 'small', '<unk>', 'that', 'can', 'result', 'in', 'a', 'bold', 'statement', 'from', '<unk>', 'group', 'joe', 'director', 'of', 'the', 'state', 'department', 'notified', 'by']\n",
            "['most', '<unk>', '<unk>', 'are', 'likely', 'to', 'be', 'executed', 'will', 'soon', 'make', 'integrated', 'donations', 'from', 'harry', '<unk>', 'an', 'insurance', 'house', 'decision', 'saying', 'it', 'would', '<unk>', 'nicaragua', 'about', 'double', 'by', 'longstanding', 'buyers', 'seeking', 'access', 'for', 'september', 'and', 'that', \"'s\", 'operating', 'profit', 'at', 'about', '$', 'N', 'million', 'reflecting', 'a', 'leg', 'ahead', 'of', 'less']\n",
            "['adverse', 'pressure', 'last', 'year', 'alone', 'researchers', 'increased', 'expanding', 'cards', 'from', 'the', 'same', 'time', 'so', 'far', 'more', 'fiercely', 'called', 'the', 'contraceptive', 'incentives', '<unk>', 'service', 'risks', 'for', 'the', 'airline', 'rather', 'at', 'the', 'start', 'of', 'november', 'and', 'that', 'british', 'air', 'is', 'N', 'to', 'N', 'proof', 'gallons', 'carried', 'from', 'N', 'N', 'with', 'an', 'agreement']\n"
          ]
        },
        {
          "output_type": "stream",
          "name": "stderr",
          "text": [
            "165it [00:12, 13.60it/s]\n"
          ]
        },
        {
          "output_type": "stream",
          "name": "stdout",
          "text": [
            "Time [0:03:27], Epoch [17/50], loss: 3.7121\n"
          ]
        },
        {
          "output_type": "stream",
          "name": "stderr",
          "text": [
            "165it [00:12, 13.50it/s]\n"
          ]
        },
        {
          "output_type": "stream",
          "name": "stdout",
          "text": [
            "Time [0:03:39], Epoch [18/50], loss: 3.6785\n"
          ]
        },
        {
          "output_type": "stream",
          "name": "stderr",
          "text": [
            "165it [00:12, 13.58it/s]\n"
          ]
        },
        {
          "output_type": "stream",
          "name": "stdout",
          "text": [
            "Time [0:03:52], Epoch [19/50], loss: 3.6477\n"
          ]
        },
        {
          "output_type": "stream",
          "name": "stderr",
          "text": [
            "165it [00:12, 13.49it/s]\n"
          ]
        },
        {
          "output_type": "stream",
          "name": "stdout",
          "text": [
            "Time [0:04:04], Epoch [20/50], loss: 3.6203\n"
          ]
        },
        {
          "output_type": "stream",
          "name": "stderr",
          "text": [
            "165it [00:12, 13.59it/s]\n"
          ]
        },
        {
          "output_type": "stream",
          "name": "stdout",
          "text": [
            "Time [0:04:16], Epoch [21/50], loss: 3.5954\n",
            "[Generated Sentences]\n",
            "['attitudes', 'toward', 'taking', 'them', 'back', 'into', 'these', 'types', 'of', 'establishing', 'the', 'drug', 'enforcement', 'administration', 'turn', 'turned', 'down', 'to', 'the', 'carpeting', 'as', 'to', 'buy', 'stocks', 'and', 'continued', 'growth', 'sales', 'in', '<unk>', 'costs', 'often', 'despite', 'its', 'company-owned', 'venture', 'capital', 'to', 'expand', 'its', 'accounts', 'plans', 'to', 'pursue', 'the', 'interests', 'of', 'it', 'made', 'for']\n",
            "['just', 'thousands', 'of', 'a', 'ticket', 'aid', 'in', 'charge', 'of', 'the', 'risks', 'of', 'a', 'variety', 'of', 'independent', 'laws', 'in', 'santa', 'barbara', 'said', 'charles', '<unk>', 'president', 'of', 'chicago', 'title', '&', 'north', 'america', 'industrial', 'coatings', 'for', 'material', 'assets', 'in', 'the', 'u.s.', 'cents', 'from', 'continuing', 'operations', 'lower', 'at', '$', 'N', 'million', 'a', 'year', 'earlier']\n",
            "['jal', 'also', 'has', 'signed', 'on', 'several', 'cities', 'interests', '<unk>', 'accepted', 'a', 'system', 'against', 'program', 'aid', 'were', 'disney', 'in', 'N', 'after', 'an', 'effort', 'to', 'a', 'recent', 'reduction', 'in', 'good', 'change', 'last', 'month', \"'s\", 'foreign', 'policy', \"'s\", 'board', 'is', 'close', 'to', 'southeast', 'asia', 'for', 'the', 'w.', 'herbert', 'hunt', 'commissioned', 'by', 'the', 'preparation']\n",
            "['improperly', 'for', 'southern', 'co.', 'vs.', '<unk>', 'bank', 'ltd', 'swiss', 'bank', 'said', 'it', 'received', 'a', '$', 'N', 'million', 'cereal', 'market', 'and', 'fed', 'industries', 'inc.', 'said', 'it', 'expects', 'to', 'sell', 'their', 'cargo', 'data', 'in', 'its', 'standard', '&', 'poor', \"'s\", 'top', 'performing', 'N', 'years', 'ago', 'was', 'closed', 'when', 'mr.', 'peladeau', \"'s\", 'third-quarter', 'third-quarter']\n",
            "['proved', 'margins', 'on', 'whether', 'to', 'carry', 'buyers', 'this', 'is', 'the', 'announcement', 'or', 'scrap', 'is', 'considered', 'down', 'efforts', 'to', 'reduce', 'the', 'market', 'averages', 'in', 'a', 'bill', 'but', 'he', 'would', 'apply', 'to', 'questions', 'efforts', 'to', 'cut', 'the', 'likelihood', 'of', 'making', 'consumers', 'make', 'the', 'proposal', 'for', 'that', 'unauthorized', 'work', 'in', 'different', 'years', 'have']\n"
          ]
        },
        {
          "output_type": "stream",
          "name": "stderr",
          "text": [
            "165it [00:12, 13.48it/s]\n"
          ]
        },
        {
          "output_type": "stream",
          "name": "stdout",
          "text": [
            "Time [0:04:28], Epoch [22/50], loss: 3.5706\n"
          ]
        },
        {
          "output_type": "stream",
          "name": "stderr",
          "text": [
            "165it [00:12, 13.47it/s]\n"
          ]
        },
        {
          "output_type": "stream",
          "name": "stdout",
          "text": [
            "Time [0:04:40], Epoch [23/50], loss: 3.5503\n"
          ]
        },
        {
          "output_type": "stream",
          "name": "stderr",
          "text": [
            "165it [00:12, 13.34it/s]\n"
          ]
        },
        {
          "output_type": "stream",
          "name": "stdout",
          "text": [
            "Time [0:04:53], Epoch [24/50], loss: 3.5302\n"
          ]
        },
        {
          "output_type": "stream",
          "name": "stderr",
          "text": [
            "165it [00:12, 13.62it/s]\n"
          ]
        },
        {
          "output_type": "stream",
          "name": "stdout",
          "text": [
            "Time [0:05:05], Epoch [25/50], loss: 3.5100\n"
          ]
        },
        {
          "output_type": "stream",
          "name": "stderr",
          "text": [
            "165it [00:12, 13.67it/s]\n"
          ]
        },
        {
          "output_type": "stream",
          "name": "stdout",
          "text": [
            "Time [0:05:17], Epoch [26/50], loss: 3.4917\n",
            "[Generated Sentences]\n",
            "['controlled', 'acting', 'like', 'a', 'cast', 'a', 'mistake', 'where', 'with', 'fixed-income', 'personnel', 'here', 'need', 'active', 'list', 'and', 'try', 'to', 'provide', 'it', 'back', 'an', 'investment', 'banker', 'who', 'are', 'being', '<unk>', 'or', 'so', 'sweet', 'appropriate', '<unk>', 'woman', 'in', 'proposals', 'the', 'sudden', 'feel', 'that', 'it', 'might', \"n't\", 'take', 'steps', 'to', '<unk>', 'funds', 'in', 'new']\n",
            "['dallas', '<unk>', 'inc.', 'which', 'has', 'no', 'finger', 'and', 'western', 'director', 'of', '<unk>', 'productions', 'inc.', 'a', '<unk>', 'r.i.', '<unk>', 'maker', 'of', '<unk>', 'harper', 'working', 'at', 'N', 'from', 'manville', 'to', 'phoenix', 'had', 'N', 'N', 'of', 'the', 'world', 'series', 'on', 'the', 'sale', 'last', 'friday', 'when', 'it', 'lowered', 'some', 'of', 'bonds', 'are', 'involved', 'with']\n",
            "['intelligence', 'haven', 'president', 'says', 'mr.', 'semel', 'said', 'some', 'estimates', 'of', 'the', 'abortion-rights', 'movement', 'once', 'a', 'haas', 'and', '<unk>', 'become', '<unk>', 'low', 'enough', 'to', 'disclose', 'the', 'minimum', 'of', 'N', 'charges', 'have', 'the', 'enormous', 'effect', 'area', 'damage', 'to', 'the', 'facility', \"'s\", 'employee', 'and', 'brokers', 'to', 'fema', 'securities', 'and', 'students', 'to', 'find', 'offsetting']\n",
            "['deduction', 'the', 'greatest', 'contribution', 'to', 'rise', 'the', 'path', 'washington', 'that', 'it', 'would', 'support', '<unk>', 'a', 'vast', 'majority', 'of', 'the', 'squeeze', 'which', '<unk>', 'technology', 'such', 'as', 'santa', 'fe', 'to', 'poison', 'pills', 'have', 'very', 'generous', 'but', 'says', '<unk>', 'said', 'he', \"'ll\", 'be', 'waiting', 'from', 'the', '<unk>', 'of', 'japanese', 'holding', 'companies', 'with', 'only']\n",
            "['transportation', 'officials', 'continue', 'to', 'comment', 'on', 'the', 'issue', 'in', 'billions', 'of', 'dollars', 'to', 'be', 'shipped', 'for', 'more', 'than', 'a', 'third', 'quarter', 'of', 'the', 'deadline', 'for', 'mr.', 'lawson', \"'s\", 'resignation', 'of', 'goldman', 'sachs', '&', 'co', 'japan', '<unk>', 'and', '<unk>', 'de', 'venezuela', 's.a', 'inc.', 'a', 'senior', 'vice', 'president', 'at', '<unk>', '&', 'associates']\n"
          ]
        },
        {
          "output_type": "stream",
          "name": "stderr",
          "text": [
            "165it [00:11, 13.75it/s]\n"
          ]
        },
        {
          "output_type": "stream",
          "name": "stdout",
          "text": [
            "Time [0:05:29], Epoch [27/50], loss: 3.4770\n"
          ]
        },
        {
          "output_type": "stream",
          "name": "stderr",
          "text": [
            "165it [00:11, 13.79it/s]\n"
          ]
        },
        {
          "output_type": "stream",
          "name": "stdout",
          "text": [
            "Time [0:05:41], Epoch [28/50], loss: 3.4588\n"
          ]
        },
        {
          "output_type": "stream",
          "name": "stderr",
          "text": [
            "165it [00:11, 13.78it/s]\n"
          ]
        },
        {
          "output_type": "stream",
          "name": "stdout",
          "text": [
            "Time [0:05:53], Epoch [29/50], loss: 3.4441\n"
          ]
        },
        {
          "output_type": "stream",
          "name": "stderr",
          "text": [
            "165it [00:12, 13.71it/s]\n"
          ]
        },
        {
          "output_type": "stream",
          "name": "stdout",
          "text": [
            "Time [0:06:05], Epoch [30/50], loss: 3.4332\n"
          ]
        },
        {
          "output_type": "stream",
          "name": "stderr",
          "text": [
            "165it [00:12, 13.71it/s]\n"
          ]
        },
        {
          "output_type": "stream",
          "name": "stdout",
          "text": [
            "Time [0:06:17], Epoch [31/50], loss: 3.4215\n",
            "[Generated Sentences]\n",
            "['consortium', 'alliances', 'publishers', 'by', 'acquiring', 'N', 'and', 'eli', 'are', \"n't\", 'approved', 'as', 'the', 'mine', 'may', 'be', 'paid', 'on', 'coping', 'with', 'the', 'deduction', 'issue', 'metromedia', 'inc.', 'which', 'will', 'have', 'dropped', 'against', 'options', 'to', 'pay', 'a', '$', 'N', 'million', 'loss', 'in', 'the', 'philippines', 'and', 'business', 'with', 'words', 'certificate', 'that', 'healthvest', 'and', 'big']\n",
            "['brand', 'approach', 'the', '<unk>', 'introduced', 'this', 'month', 'when', 'i', 'were', 'coming', 'from', 'the', 'u.s.', 'the', '<unk>', \"'s\", 'department', 'at', 'san', 'francisco', 'defense', 'and', 'such', 'behavior', 'at', 'the', '<unk>', 'rubble', 'when', 'the', 'government', 'reaches', '$', 'N', 'billion', 'in', 'gold', 'silver', 'and', 'industry', 'observers', 'say', 'the', 'stock', \"'s\", '$', 'N', 'to', '$']\n",
            "['controlling', 'boeing', 'outlets', 'and', 'sold', 'in', 'N', 'when', 'occidental', 'petroleum', 'said', 'the', 'new', 'york', 'stock', 'exchange', 'was', 'N', 'and', 'have', 'dropped', 'N', 'N', 'following', 'stock', 'at', 'the', 'treasury', '<unk>', 'n.j.', 'commerce', 'firm', 'has', 'handled', 'among', 'independent', '<unk>', 'to', 'issue', 'mr.', 'phillips', 'and', 'to', 'themselves', 'a', 'new', 'electoral', 'network', 'in', 'washington']\n",
            "['uncertainties', 'el', 'late', 'grew', 'N', 'to', 'N', 'N', 'on', 'exports', 'on', 'monday', 'to', 'the', '20-year', 'institutions', 'or', 'curry', 'today', \"'s\", 'exchange', 'options', 'exchange', 'was', 'two', 'months', 'of', 'the', 'pound', 'above', 'the', 'N', 'N', 'of', 'the', 'coupon', 'action', 'came', 'after', 'the', 'close', 'at', 'an', 'inflation', 'slide', 'in', 'the', 'bonds', '<unk>', 'by']\n",
            "['dale', 'lang', 'owns', 'N', 'N', 'of', 'the', 'world', \"'s\", 'largest', 'liquor', 'company', 'that', 'sells', 'business', 'loans', 'at', 'houston', 'try', 'and', 'run', 'into', 'lending', 'high', 'gas', 'to', 'increased', 'stock', 'a', 'levy', 'and', 'unemployment', 'insurance', 'and', 'offset', 'tax', 'benefits', 'either', 'securities', 'a', 'capital', 'appreciation', 'bonds', 'in', 'return', 'to', 'approximately', 'new', 'equipment', 'groups']\n"
          ]
        },
        {
          "output_type": "stream",
          "name": "stderr",
          "text": [
            "165it [00:11, 13.77it/s]\n"
          ]
        },
        {
          "output_type": "stream",
          "name": "stdout",
          "text": [
            "Time [0:06:29], Epoch [32/50], loss: 3.4078\n"
          ]
        },
        {
          "output_type": "stream",
          "name": "stderr",
          "text": [
            "165it [00:11, 13.81it/s]\n"
          ]
        },
        {
          "output_type": "stream",
          "name": "stdout",
          "text": [
            "Time [0:06:41], Epoch [33/50], loss: 3.3953\n"
          ]
        },
        {
          "output_type": "stream",
          "name": "stderr",
          "text": [
            "165it [00:12, 13.75it/s]\n"
          ]
        },
        {
          "output_type": "stream",
          "name": "stdout",
          "text": [
            "Time [0:06:53], Epoch [34/50], loss: 3.3854\n"
          ]
        },
        {
          "output_type": "stream",
          "name": "stderr",
          "text": [
            "165it [00:12, 13.65it/s]\n"
          ]
        },
        {
          "output_type": "stream",
          "name": "stdout",
          "text": [
            "Time [0:07:05], Epoch [35/50], loss: 3.3768\n"
          ]
        },
        {
          "output_type": "stream",
          "name": "stderr",
          "text": [
            "165it [00:11, 13.82it/s]\n"
          ]
        },
        {
          "output_type": "stream",
          "name": "stdout",
          "text": [
            "Time [0:07:17], Epoch [36/50], loss: 3.3678\n",
            "[Generated Sentences]\n",
            "['earned', 'regulated', 'minor', 'says', 'jack', 'b.', '<unk>', 'said', 'and', 'the', 'u.s.', 'was', 'removed', 'from', '<unk>', 'halls', 'that', 'became', 'available', 'in', 'the', 'week', 'and', 'diversity', 'price', 'of', '<unk>', 'crusaders', 'have', 'macmillan', 'inc.', 'yesterday', 'that', 'saab', 'said', 'that', 'its', 'software', 'companies', 'are', 'sold', 'off', 'stock-index', 'arbitrage', 'to', 'total', 'funding', 'for', 'further', 'premium']\n",
            "['produces', 'global', 'warming', 'has', 'nearly', 'half', 'they', 'agreed', 'to', 'son', 'such', 'as', '<unk>', 'for', 'farmers', 'the', 'group', 'is', 'trying', 'to', 'resolve', 'them', 'we', 'can', 'either', 'direction', 'the', 'result', 'of', 'the', 'chase', 'tried', 'to', 'get', 'a', 'N', 'N', 'days', 'priced', 'at', 'par', 'for', 'N', 'a', 'group', 'of', 'connaught', 'increased', 'to', 'N']\n",
            "['30-year', 'treasury', '10-year', 'to', 'one', 'eight', 'fiscal', 'year', 'sagged', 'N', 'cents', 'a', 'share', 'exercisable', 'from', 'using', 'savings', 'and', 'marketing', 'shares', 'within', 'N', 'N', 'pay', 'for', 'navigation', 'mixte', 'shares', 'or', 'the', 'total', 'advertising', 'at', 'general', 'in', 'texas', 'tuesday', 'night', 'by', 'dennis', 'gas', 'fields', 'up', 'in', 'the', 'day', 'by', 'dec.', 'N', 'N']\n",
            "['bunny', 'morgan', 'who', 'trades', 'the', 'offices', 'in', 'christopher', '<unk>', 'the', 'poorest', 'from', 'a', 'republican', 'half-hour', 'to', 'the', 'delicate', 'fund', 'to', 'be', 'named', 'to', 'succeed', 'mr.', 'hatch', \"'s\", '<unk>', 'leader', 'bennett', 'must', 'be', 'completed', 'by', 'the', 'right', '<unk>', 'to', 'a', 'former', 'reagan', '<unk>', 'of', 'machinery', 'and', 'dismiss', 'as', 'a', 'des', 'by']\n",
            "['gramm-rudman', 'engineered', 'industries', 'sector', 'also', 'reported', 'a', 'potential', 'loss', 'of', 'a', 'combination', 'agreement', 'to', 'raise', '$', 'N', 'billion', 'in', 'cash', 'in', 'a', 'N', 'labor', 'tax', 'and', 'force', 'it', 'said', 'they', 'expect', 'a', 'substantial', 'amount', 'of', 'effect', 'of', 'two', 'common', 'shares', 'outstanding', 'with', 'the', 'purchasers', \"'\", 'effects', 'of', 'production', 'in', 'the']\n"
          ]
        },
        {
          "output_type": "stream",
          "name": "stderr",
          "text": [
            "165it [00:11, 13.78it/s]\n"
          ]
        },
        {
          "output_type": "stream",
          "name": "stdout",
          "text": [
            "Time [0:07:29], Epoch [37/50], loss: 3.3565\n"
          ]
        },
        {
          "output_type": "stream",
          "name": "stderr",
          "text": [
            "165it [00:11, 13.78it/s]\n"
          ]
        },
        {
          "output_type": "stream",
          "name": "stdout",
          "text": [
            "Time [0:07:41], Epoch [38/50], loss: 3.3503\n"
          ]
        },
        {
          "output_type": "stream",
          "name": "stderr",
          "text": [
            "165it [00:12, 13.69it/s]\n"
          ]
        },
        {
          "output_type": "stream",
          "name": "stdout",
          "text": [
            "Time [0:07:53], Epoch [39/50], loss: 3.3444\n"
          ]
        },
        {
          "output_type": "stream",
          "name": "stderr",
          "text": [
            "165it [00:11, 13.79it/s]\n"
          ]
        },
        {
          "output_type": "stream",
          "name": "stdout",
          "text": [
            "Time [0:08:05], Epoch [40/50], loss: 3.3356\n"
          ]
        },
        {
          "output_type": "stream",
          "name": "stderr",
          "text": [
            "165it [00:11, 13.83it/s]\n"
          ]
        },
        {
          "output_type": "stream",
          "name": "stdout",
          "text": [
            "Time [0:08:17], Epoch [41/50], loss: 3.3316\n",
            "[Generated Sentences]\n",
            "['ortega', 'would', 'think', 'we', 'have', 'received', 'orders', 'for', 'N', '<unk>', 'tanks', 'or', 'about', 'the', 'priority', 'to', 'back', 'and', 'renewed', 'the', 'mid-1990s', 'after', 'warren', '<unk>', 'and', 'singer', 'who', 'smoke', '<unk>', 'around', 'the', 'president', 'for', 'grant', 'leaves', 'and', 'lawmakers', 'themselves', 'and', 'seized', 'the', 'same', 'purchase', 'as', 'the', 'case', 'in', 'any', 'case', 'he']\n",
            "['nonperforming', 'pentagon', \"'s\", 'estate', 'owners', 'distributors', 'of', '<unk>', 'systems', 'inc.', 'and', '<unk>', 'users', 'are', 'going', 'to', 'trade', 'the', 'common', 'stock', 'of', '<unk>', 'by', 'individuals', 'who', 'took', 'a', 'cloud', 'within', 'a', 'few', 'months', 'over', '<unk>', 'with', 'eastern', 'is', 'an', 'aggressive', 'participant', 'in', 'nearly', 'N', 'N', 'of', 'unsecured', 'debentures', 'were', 'the', 'company']\n",
            "['n.y.', 'issuers', 'eight', 'pence', 'in', 'N', 'this', 'week', 'down', 'from', 'one', 'friday', 'to', 'start', 'a', 'severe', 'crunch', 'show', 'titled', 'for', 'two', 'years', 'ago', 'he', 'picked', 'naturally', '<unk>', 'and', 'organization', 'that', 'they', 'give', 'him', 'to', 'give', 'us', 'more', 'the', 'ultimate', 'effort', 'to', 'ride', 'out', 'of', '<unk>', 'rock', 'and', '<unk>', 'frustration', 'with']\n",
            "['insiders', 'maintain', 'that', 'systems', 'entered', 'his', 'hands', 'on', 'mainframes', 'alone', 'from', '<unk>', 'out', 'of', 'the', 'government', \"'s\", '$', 'N', 'billion', 'gap', 'but', 'the', 'lbo', 'house-senate', 'conference', 'whose', 'futures', 'contract', 'to', 'third', 'world', 'traders', 'will', 'be', 'able', 'to', 'handle', 'its', 'new', 'days', 'of', 'the', 'economy', 'and', 'by', 'reading', 'in', 'the', 'u.s.']\n",
            "['zurich', \"'s\", 'first', 'suit', 'from', '<unk>', 'sperry', 'corp.', 'said', 'it', 'will', 'shut', 'down', 'it', 'announced', 'a', 'bad', 'paper', 'investigation', 'into', 'the', 'earth', \"'s\", 'new', 'hampshire', 'stock', 'a', 'bit', 'as', 'the', 'two', 'stock-market', 'swings', 'in', 'semiconductors', 'and', '<unk>', 'supplies', 'to', 'compact', '<unk>', 'for', 'premium', 'and', '<unk>', 'services', 'how', 'united', 'airlines', 'will']\n"
          ]
        },
        {
          "output_type": "stream",
          "name": "stderr",
          "text": [
            "165it [00:11, 13.81it/s]\n"
          ]
        },
        {
          "output_type": "stream",
          "name": "stdout",
          "text": [
            "Time [0:08:29], Epoch [42/50], loss: 3.3241\n"
          ]
        },
        {
          "output_type": "stream",
          "name": "stderr",
          "text": [
            "165it [00:12, 13.69it/s]\n"
          ]
        },
        {
          "output_type": "stream",
          "name": "stdout",
          "text": [
            "Time [0:08:41], Epoch [43/50], loss: 3.3185\n"
          ]
        },
        {
          "output_type": "stream",
          "name": "stderr",
          "text": [
            "165it [00:12, 13.69it/s]\n"
          ]
        },
        {
          "output_type": "stream",
          "name": "stdout",
          "text": [
            "Time [0:08:53], Epoch [44/50], loss: 3.3107\n"
          ]
        },
        {
          "output_type": "stream",
          "name": "stderr",
          "text": [
            "165it [00:12, 13.72it/s]\n"
          ]
        },
        {
          "output_type": "stream",
          "name": "stdout",
          "text": [
            "Time [0:09:05], Epoch [45/50], loss: 3.3066\n"
          ]
        },
        {
          "output_type": "stream",
          "name": "stderr",
          "text": [
            "165it [00:11, 13.84it/s]\n"
          ]
        },
        {
          "output_type": "stream",
          "name": "stdout",
          "text": [
            "Time [0:09:17], Epoch [46/50], loss: 3.2993\n",
            "[Generated Sentences]\n",
            "['declares', 'prolonged', 'believe', 'that', 'in', 'those', 'a', 'lot', 'of', 'people', 'all', 'aid', 'should', 'be', 'interested', 'in', 'a', 'stock-market', 'volatility', 'remains', 'near', 'universities', 'one', 'to', 'a', '<unk>', 'for', 'a', 'recital', 'at', 'that', 'old', 'globe', 'have', 'recently', 'commissioned', 'the', 'program', 'he', 'could', 'have', 'a', 'nice', 'picture', 'to', 'buy', 'shares', 'in', 'british', 'petroleum']\n",
            "['recorders', 'contraceptive', 'served', 'comes', 'on', 'the', 'moral', 'structure', 'of', 'the', 'company', \"'s\", 'harbor', 'insurance', 'which', 'took', 'over', 'to', 'six', 'categories', 'of', 'other', 'securities', 'activities', 'and', 'trucks', 'they', 'said', 'the', 'requirement', 'is', 'over', 'adding', 'to', 'buy', 'the', 'new', 'product', 'by', 'one', 'bringing', 'N', 'votes', 'around', 'N', 'miles', 'illegal', 'miles', 'where', '<unk>']\n",
            "['entered', 'freeway', 'using', 'members', 'during', 'the', 'past', 'N', 'barbara', '<unk>', 'said', 'he', 'plans', 'to', 'push', 'through', '<unk>', 'in', '<unk>', 'such', 'as', 'food', 'and', 'drug', 'by', 'solar', '<unk>', 'and', 'boring', 'reviews', 'of', 'north', 'america', 'by', 'its', 'headquarters', 'on', 'domestic', 'loans', 'without', 'use', 'the', '<unk>', 'of', 'its', 'portfolio', 'in', 'puerto', 'rico', 'and']\n",
            "['predict', 'led', 'officially', 'withdrew', 'into', 'a', '1950s', 'for', 'the', 'increased', 'sharply', 'rise', 'in', 'third-quarter', 'profit', 'under', 'the', 'so-called', 'second', 'quarter', 'the', 'government', 'will', 'begin', 'benefiting', 'from', 'a', 'development', 'of', '$', 'N', 'million', 'of', 'security', 'owned', 'export', 'fees', 'and', 'video', 'chemicals', 'items', 'such', 'as', 'voting', 'said', 'it', 'sold', 'its', '<unk>', 'in']\n",
            "['rubber', 'pure', 'federal', 'district', 'judge', 'was', 'richard', 'g.', '<unk>', 'former', 'president', 'entered', 'him', 'in', 'a', 'bad', 'case', 'himself', 'as', 'well', 'he', 'says', 'he', \"'s\", '<unk>', 'this', 'point', 'where', 'these', 'schools', 'should', 'discuss', 'some', 'companies', 'will', 'develop', '<unk>', 'but', 'that', 'they', 'can', 'do', 'to', 'eliminate', 'nicaragua', \"'s\", 'participation', 'standards', 'shareholders', 'to']\n"
          ]
        },
        {
          "output_type": "stream",
          "name": "stderr",
          "text": [
            "165it [00:12, 13.72it/s]\n"
          ]
        },
        {
          "output_type": "stream",
          "name": "stdout",
          "text": [
            "Time [0:09:29], Epoch [47/50], loss: 3.2936\n"
          ]
        },
        {
          "output_type": "stream",
          "name": "stderr",
          "text": [
            "165it [00:11, 13.82it/s]\n"
          ]
        },
        {
          "output_type": "stream",
          "name": "stdout",
          "text": [
            "Time [0:09:41], Epoch [48/50], loss: 3.2910\n"
          ]
        },
        {
          "output_type": "stream",
          "name": "stderr",
          "text": [
            "165it [00:12, 13.66it/s]\n"
          ]
        },
        {
          "output_type": "stream",
          "name": "stdout",
          "text": [
            "Time [0:09:53], Epoch [49/50], loss: 3.2880\n"
          ]
        },
        {
          "output_type": "stream",
          "name": "stderr",
          "text": [
            "165it [00:11, 13.82it/s]"
          ]
        },
        {
          "output_type": "stream",
          "name": "stdout",
          "text": [
            "Time [0:10:05], Epoch [50/50], loss: 3.2851\n"
          ]
        },
        {
          "output_type": "stream",
          "name": "stderr",
          "text": [
            "\n"
          ]
        }
      ]
    },
    {
      "cell_type": "markdown",
      "metadata": {
        "id": "nDhlrcENM4Dx"
      },
      "source": [
        "생성된 텍스트의 퀄리티는 어떤가요? \n",
        "\n",
        "앞으로 딥러닝 강의가 끝나면 자연어처리 강좌에서 본격텍스트 처리에 적합한 전처리, 모델구조, 학습 trick들을 배우시게 될것입니다."
      ]
    },
    {
      "cell_type": "markdown",
      "metadata": {
        "id": "1Ua-_6W2a5Lt"
      },
      "source": [
        "# References\n",
        "\n",
        "1. https://github.com/pytorch/examples/tree/master/word_language_model\n",
        "2. https://github.com/yunjey/pytorch-tutorial/tree/master/tutorials/02-intermediate/language_model"
      ]
    }
  ]
}